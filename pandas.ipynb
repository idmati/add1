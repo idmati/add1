{
 "cells": [
  {
   "cell_type": "code",
   "execution_count": null,
   "metadata": {},
   "outputs": [],
   "source": [
    "# Задача 1\n",
    "import pandas as pd\n",
    "df = pd.read_excel('data.xlsx',sheet_name='Sheet1')\n",
    "\n",
    "kapusta = df[df['sku']=='Капуста']\n",
    "kapusta.to_csv('task1.csv', index = False)\n",
    "\n"
   ]
  },
  {
   "cell_type": "code",
   "execution_count": null,
   "metadata": {},
   "outputs": [],
   "source": [
    "# Задача 2\n",
    "import pandas as pd\n",
    "\n",
    "df = pd.read_excel(\"data.xlsx\", sheet_name='Sheet1')\n",
    "\n",
    "kivi = df[df['sku'] == \"Киви\"]\n",
    "print (kivi)\n",
    "kivi1 = kivi[kivi['priceoforder'] > 1000]\n",
    "kivi1.to_excel(\"task2.xlsx\", index = False)\n",
    "\n"
   ]
  },
  {
   "cell_type": "code",
   "execution_count": null,
   "metadata": {},
   "outputs": [],
   "source": [
    "# Задача 3\n",
    "\n",
    "import pandas as pd\n",
    "\n",
    "df = pd.read_excel(\"data.xlsx\", sheet_name='Sheet1')\n",
    "df1 = df[df['volume'] > 15]\n",
    "print (df1)\n",
    "df2 = df1[df1['volume'] < 50]\n",
    "df2.to_excel(\"task3.xlsx\", index = False)"
   ]
  },
  {
   "cell_type": "code",
   "execution_count": 10,
   "metadata": {},
   "outputs": [
    {
     "name": "stdout",
     "output_type": "stream",
     "text": [
      "   Teatcher_Id Teatcher_Name  School_Id Joining_Date      Speciality  Salary  \\\n",
      "0          101        Галина          1    2021 2 10           Физик   40000   \n",
      "1          102         Мария          1   2018 07 23           Химик   20000   \n",
      "2          103         Ольга          2   2022 05 19      Информатик   25000   \n",
      "3          104        Полина          2   2017 12 28           Физик   28000   \n",
      "4          105         Лидия          3   2015 06 04      Информатик   42000   \n",
      "5          106     Анастасия          3   2019 09 11  Учитель трудов   30000   \n",
      "6          107         Ирина          4   2020 08 21      Информатик   32000   \n",
      "7          108      Виктория          4   2017 10 17         Географ   30000   \n",
      "\n",
      "   Experience  \n",
      "0           5  \n",
      "1           5  \n",
      "2          10  \n",
      "3          10  \n",
      "4          15  \n",
      "5          15  \n",
      "6          20  \n",
      "7          20  \n"
     ]
    }
   ],
   "source": [
    "import pandas as pd\n",
    "import sqlite3\n",
    "\n",
    "con = sqlite3.connect(\"teachers.db\")\n",
    "df = pd.read_sql('SELECT * FROM Teatcher;',con)\n",
    "print (df)"
   ]
  },
  {
   "cell_type": "code",
   "execution_count": null,
   "metadata": {},
   "outputs": [],
   "source": [
    "import pandas as pd\n",
    "import sqlite3\n",
    "\n",
    "con = sqlite3.connect(\"Schools.db\")\n",
    "df_school = pd.DataFrame({\n",
    "    \"School_id\": [1,2,3,4],\n",
    "    \"School_Name\": ['Дружба'],\n",
    "    \"Place_count\": [500]})                    \n",
    "\n",
    "df_school.to_sql(\"City\",con) #добавили 4 записи сити городов"
   ]
  },
  {
   "cell_type": "code",
   "execution_count": 15,
   "metadata": {},
   "outputs": [],
   "source": [
    "# Задача 4\n",
    "\n",
    "import pandas as pd\n",
    "\n",
    "import sqlite3\n",
    "\n",
    "\n",
    "\n",
    "\n",
    "con = sqlite3.connect(\"Students.db\")\n",
    "\n",
    "df = pd.read_sql('SELECT * FROM Students;',con)\n",
    "\n",
    "df.to_excel('task4.xlsx', index = False)"
   ]
  },
  {
   "cell_type": "code",
   "execution_count": null,
   "metadata": {},
   "outputs": [],
   "source": [
    "import pandas as pd\n",
    "import "
   ]
  }
 ],
 "metadata": {
  "kernelspec": {
   "display_name": "Python 3",
   "language": "python",
   "name": "python3"
  },
  "language_info": {
   "codemirror_mode": {
    "name": "ipython",
    "version": 3
   },
   "file_extension": ".py",
   "mimetype": "text/x-python",
   "name": "python",
   "nbconvert_exporter": "python",
   "pygments_lexer": "ipython3",
   "version": "3.11.3"
  },
  "orig_nbformat": 4
 },
 "nbformat": 4,
 "nbformat_minor": 2
}
