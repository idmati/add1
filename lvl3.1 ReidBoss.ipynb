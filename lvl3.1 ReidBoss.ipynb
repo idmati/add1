{
 "cells": [
  {
   "cell_type": "code",
   "execution_count": 1,
   "metadata": {},
   "outputs": [
    {
     "name": "stdout",
     "output_type": "stream",
     "text": [
      "[[1, 1, 1, 1, 1, 1, 1, 1, 1, 1], [1, 1, 1, 1, 1, 1, 1, 1, 1, 1], [1, 1, 1, 1, 1, 1, 1, 1, 1, 1], [1, 1, 1, 1, 1, 1, 1, 1, 1, 1], [1, 1, 1, 1, 1, 1, 1, 1, 1, 1], [1, 1, 1, 1, 1, 1, 1, 1, 1, 1], [1, 1, 1, 1, 1, 1, 1, 1, 1, 1], [1, 1, 1, 1, 1, 1, 1, 1, 1, 1], [1, 1, 1, 1, 1, 1, 1, 1, 1, 1], [1, 1, 1, 1, 1, 1, 1, 1, 1, 1]]\n"
     ]
    }
   ],
   "source": [
    "# Примечание! \n",
    "#   - новый класс не запрещено строить на базе существующих типов данных: списков, словарей и тд.\n",
    "#   - отображать в таблице/матрице название колонки не обязательно!\n",
    "#   - использовать готовые классы numpy.array() и pandas.DataFrame() запрещено!\n",
    "#   - проявите фантазию :)\n",
    "\n",
    "\n",
    "class Matrix:\n",
    "    def __init__(self, rows, columns):\n",
    "        self._matrix = [[None for j in range(columns)] for i in range(rows)]\n",
    "        self._rows_count = rows\n",
    "        self._columns_count = columns\n",
    "\n",
    "    def set_value(self, row, column, value):\n",
    "        self._matrix[row][column] = value\n",
    "\n",
    "    def get_value(self, row, column):\n",
    "        return self._matrix[row][column]\n",
    "\n",
    "    def get_rows_count(self):\n",
    "        return self._rows_count\n",
    "\n",
    "    def get_columns_count(self):\n",
    "        return self._columns_count\n",
    "\n",
    "m = Matrix(10, 10)\n",
    "for i in range(m.get_rows_count()):\n",
    "    for j in range(m.get_columns_count()):\n",
    "        m.set_value(i, j, 1)\n",
    "print(m._matrix)   #И что-то он там страшное выдаст "
   ]
  }
 ],
 "metadata": {
  "kernelspec": {
   "display_name": "Python 3",
   "language": "python",
   "name": "python3"
  },
  "language_info": {
   "codemirror_mode": {
    "name": "ipython",
    "version": 3
   },
   "file_extension": ".py",
   "mimetype": "text/x-python",
   "name": "python",
   "nbconvert_exporter": "python",
   "pygments_lexer": "ipython3",
   "version": "3.11.3"
  },
  "orig_nbformat": 4
 },
 "nbformat": 4,
 "nbformat_minor": 2
}
