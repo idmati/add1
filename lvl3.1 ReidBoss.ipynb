{
 "cells": [
  {
   "cell_type": "code",
   "execution_count": 28,
   "metadata": {},
   "outputs": [
    {
     "name": "stdout",
     "output_type": "stream",
     "text": [
      "[[1, 1, 1, 1, 1, 1, 1, 1, 1, 1], [1, 1, 1, 1, 1, 1, 1, 1, 1, 1], [1, 1, 1, 1, 1, 1, 1, 1, 1, 1], [1, 1, 1, 1, 1, 1, 1, 1, 1, 1], [1, 1, 1, 1, 1, 1, 1, 1, 1, 1], [1, 1, 1, 1, 1, 1, 1, 1, 1, 1], [1, 1, 1, 1, 1, 1, 1, 1, 1, 1], [1, 1, 1, 1, 1, 1, 1, 1, 1, 1], [1, 1, 1, 1, 1, 1, 1, 1, 1, 1], [1, 1, 1, 1, 1, 1, 1, 1, 1, 1]] \n",
      " в строку\n",
      "[[1, 1, 1, 1, 1, 1, 1, 1, 1, 1],\n",
      " [1, 1, 1, 1, 1, 1, 1, 1, 1, 1],\n",
      " [1, 1, 1, 1, 1, 1, 1, 1, 1, 1],\n",
      " [1, 1, 1, 1, 1, 1, 1, 1, 1, 1],\n",
      " [1, 1, 1, 1, 1, 1, 1, 1, 1, 1],\n",
      " [1, 1, 1, 1, 1, 1, 1, 1, 1, 1],\n",
      " [1, 1, 1, 1, 1, 1, 1, 1, 1, 1],\n",
      " [1, 1, 1, 1, 1, 1, 1, 1, 1, 1],\n",
      " [1, 1, 1, 1, 1, 1, 1, 1, 1, 1],\n",
      " [1, 1, 1, 1, 1, 1, 1, 1, 1, 1]]\n",
      "дорохо бохато\n"
     ]
    }
   ],
   "source": [
    "# Примечание! \n",
    "#   - новый класс не запрещено строить на базе существующих типов данных: списков, словарей и тд.\n",
    "#   - отображать в таблице/матрице название колонки не обязательно!\n",
    "#   - использовать готовые классы numpy.array() и pandas.DataFrame() запрещено!\n",
    "#   - проявите фантазию :)\n",
    "import pprint\n",
    "\n",
    "class Matrix:\n",
    "    def __init__(self, rows, columns):\n",
    "        self._matrix = [[None for j in range(columns)] for i in range(rows)]\n",
    "        self._rows_count = rows\n",
    "        self._columns_count = columns\n",
    "\n",
    "    def set_value(self, row, column, value):\n",
    "        self._matrix[row][column] = value\n",
    "\n",
    "    def get_value(self, row, column):\n",
    "        return self._matrix[row][column]\n",
    "\n",
    "    def get_rows_count(self):\n",
    "        return self._rows_count\n",
    "\n",
    "    def get_columns_count(self):\n",
    "        return self._columns_count\n",
    "\n",
    "m = Matrix(10,10)\n",
    "for i in range(m.get_rows_count()):\n",
    "    for j in range(m.get_columns_count()):\n",
    "        m.set_value(i, j, 1)\n",
    "print (m._matrix,'\\n в строку')   #И что-то он там страшное выдаст\n",
    "\n",
    "# как сделать в таблице хоть как\n",
    "pprint.pprint (m._matrix)\n",
    "print ('дорохо бохато')"
   ]
  },
  {
   "cell_type": "code",
   "execution_count": 27,
   "metadata": {},
   "outputs": [
    {
     "name": "stdout",
     "output_type": "stream",
     "text": [
      "<__main__.Matrix object at 0x000001D969139490>\n"
     ]
    }
   ],
   "source": [
    "class Matrix:\n",
    "    def __init__(self, row, column):\n",
    "        self.matrix = self.get_matrix(row, column)\n",
    "    def get_matrix(self, row, column): \n",
    "        num = 1\n",
    "        matrix = [[None for j in range(column)] for i in range(row)] \n",
    "        for i in range(len(matrix)):\n",
    "            for j in range(len(matrix[i])):\n",
    "                matrix[i][j] = num \n",
    "                num += 1\n",
    "        return matrix\n",
    "    def get_matrix_str(self, matrix):\n",
    "        strings = []\n",
    "        for row in matrix:\n",
    "            strings.append(str(row))\n",
    "        return '\\n'.join(strings)\n",
    "    def  ___str___ (self):\n",
    "        return self.getmatrixstr(self.matrix)\n",
    "    def ___len___(self):\n",
    "        return len(self.matrix)\n",
    "    def add(self, matrix):\n",
    "        self.content.append(matrix)\n",
    "    def get_rows_count(self):\n",
    "        return self.row\n",
    "    def get_columns_count(self): return self.column\n",
    "m = Matrix(10,10) \n",
    "print(m)"
   ]
  }
 ],
 "metadata": {
  "kernelspec": {
   "display_name": "Python 3",
   "language": "python",
   "name": "python3"
  },
  "language_info": {
   "codemirror_mode": {
    "name": "ipython",
    "version": 3
   },
   "file_extension": ".py",
   "mimetype": "text/x-python",
   "name": "python",
   "nbconvert_exporter": "python",
   "pygments_lexer": "ipython3",
   "version": "3.11.3"
  },
  "orig_nbformat": 4
 },
 "nbformat": 4,
 "nbformat_minor": 2
}
