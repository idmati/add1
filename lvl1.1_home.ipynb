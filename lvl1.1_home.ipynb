{
 "cells": [
  {
   "cell_type": "code",
   "execution_count": 1,
   "metadata": {},
   "outputs": [],
   "source": [
    "# Задача 1\n",
    "# Задача 1.1.\n",
    "\n",
    "# Есть строка с перечислением песен\n",
    "\n",
    "my_favorite_songs = 'Waste a Moment, Staying\\' Alive, A Sorta Fairytale, Start Me Up, New Salvation'\n",
    "# Выведите на консоль с помощью индексации строки, последовательно: первый трек, последний, второй, второй с конца\n",
    "# Нельзя переопределять my_favorite_songs и запятая не должна выводиться."
   ]
  },
  {
   "cell_type": "code",
   "execution_count": 16,
   "metadata": {},
   "outputs": [
    {
     "name": "stdout",
     "output_type": "stream",
     "text": [
      "всего символов в Waste a Moment, Staying' Alive, A Sorta Fairytale, Start Me Up, New Salvation  будет 77\n",
      "первый трек  Waste a Moment\n",
      "последний  New Salvation\n",
      "второй  Staying' Alive\n",
      "второй с конца  Start Me Up\n",
      "без запятых и в строку:\n",
      "Waste a Moment New Salvation Staying' Alive Start Me Up\n",
      "через сплит и поиск запятой\n",
      "done: Waste a Moment New Salvation A Sorta Fairytale Start Me Up\n"
     ]
    }
   ],
   "source": [
    "# мое решение\n",
    "my_favorite_songs = 'Waste a Moment, Staying\\' Alive, A Sorta Fairytale, Start Me Up, New Salvation'\n",
    "print ('всего символов в',my_favorite_songs,' будет', len(my_favorite_songs))\n",
    "print ('первый трек ', my_favorite_songs[:14])\n",
    "print ('последний ', my_favorite_songs[-13:])\n",
    "print ('второй ', my_favorite_songs[16:30])\n",
    "print ('второй с конца ', my_favorite_songs[-26:-15])\n",
    "# другой вариант\n",
    "print ('без запятых и в строку:')\n",
    "x,y,z,q =my_favorite_songs[:14],my_favorite_songs[-13:],my_favorite_songs[16:30],my_favorite_songs[-26:-15]\n",
    "print (x,y,z,q)\n",
    "# вариант с поиском запятой\n",
    "print ('через сплит и поиск запятой')\n",
    "el =my_favorite_songs.split(', ')\n",
    "print (('done:'),el[0],el[4],el[2],el[-2])\n"
   ]
  }
 ],
 "metadata": {
  "kernelspec": {
   "display_name": "Python 3",
   "language": "python",
   "name": "python3"
  },
  "language_info": {
   "codemirror_mode": {
    "name": "ipython",
    "version": 3
   },
   "file_extension": ".py",
   "mimetype": "text/x-python",
   "name": "python",
   "nbconvert_exporter": "python",
   "pygments_lexer": "ipython3",
   "version": "3.11.3"
  },
  "orig_nbformat": 4
 },
 "nbformat": 4,
 "nbformat_minor": 2
}
