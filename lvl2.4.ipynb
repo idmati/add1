{
 "cells": [
  {
   "cell_type": "code",
   "execution_count": null,
   "metadata": {},
   "outputs": [],
   "source": [
    "# Задача 2.4.\n",
    "\n",
    "# Пункт A.\n",
    "# Напишите функцию, которая удаляет все восклицательные знаки из заданной строк.\n",
    "# Например,\n",
    "# foo(\"Hi! Hello!\") -> \"Hi Hello\"\n",
    "# foo(\"\") -> \"\"\n",
    "# foo(\"Oh, no!!!\") -> \"Oh, no\"\n",
    "\n",
    "def remove_exclamation_marks(s):\n",
    "    return print(s.replace(\"!\", \"\"))\n",
    "\n",
    "\n"
   ]
  },
  {
   "cell_type": "code",
   "execution_count": 12,
   "metadata": {},
   "outputs": [],
   "source": [
    "# Пункт B.\n",
    "# Удалите восклицательный знак из конца строки. \n",
    "# remove(\"Hi!\") == \"Hi\"\n",
    "# remove(\"Hi!!!\") == \"Hi!!\"\n",
    "# remove(\"!Hi\") == \"!Hi\"\n",
    "\n",
    "def remove_last_em(s):\n",
    "    if s.endswith('!'):\n",
    "        return print(s[:-1])\n",
    "    else:\n",
    "        return print(s)\n",
    "\n",
    "\n",
    "\n"
   ]
  },
  {
   "cell_type": "code",
   "execution_count": 15,
   "metadata": {},
   "outputs": [],
   "source": [
    "# Дополнительно\n",
    "\n",
    "# Пункт С.\n",
    "# Удалите слова из предложения, если они содержат ровно один восклицательный знак.\n",
    "# Слова разделены одним пробелом.\n",
    "# Например,\n",
    "# remove(\"Hi!\") === \"\"\n",
    "# remove(\"Hi! Hi!\") === \"\"\n",
    "# remove(\"Hi! Hi! Hi!\") === \"\"\n",
    "# remove(\"Hi Hi! Hi!\") === \"Hi\"\n",
    "# remove(\"Hi! !Hi Hi!\") === \"\"\n",
    "# remove(\"Hi! Hi!! Hi!\") === \"Hi!!\"\n",
    "# remove(\"Hi! !Hi! Hi!\") === \"!Hi!\"\n",
    "\n",
    "def remove_word(s):\n",
    "    list_s = s.split(' ')\n",
    "    new_s = \"\"\n",
    "    for el in list_s:\n",
    "        if el.startswith('!') and el.endswith('!'):\n",
    "            new_s += el + ' '\n",
    "        elif not el.startswith('!') and not el.endswith('!'):\n",
    "            new_s += el + ' '\n",
    "        elif el.find('!', 1, -1) > -1:\n",
    "            new_s += el + ' '\n",
    "        print (el)\n",
    "\n",
    "    return print(new_s)"
   ]
  }
 ],
 "metadata": {
  "kernelspec": {
   "display_name": "Python 3",
   "language": "python",
   "name": "python3"
  },
  "language_info": {
   "codemirror_mode": {
    "name": "ipython",
    "version": 3
   },
   "file_extension": ".py",
   "mimetype": "text/x-python",
   "name": "python",
   "nbconvert_exporter": "python",
   "pygments_lexer": "ipython3",
   "version": "3.11.3"
  },
  "orig_nbformat": 4
 },
 "nbformat": 4,
 "nbformat_minor": 2
}
