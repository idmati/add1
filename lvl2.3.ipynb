{
 "cells": [
  {
   "cell_type": "code",
   "execution_count": 12,
   "metadata": {},
   "outputs": [
    {
     "name": "stdout",
     "output_type": "stream",
     "text": [
      "Такого числа нет\n",
      "None\n"
     ]
    }
   ],
   "source": [
    "# Задача 2.3.\n",
    "\n",
    "# Напишите функцию, которая принимает цифры от 0 до 9 и возвращает значение прописью.\n",
    "# Например,\n",
    "# switch_it_up(1) -> 'One'\n",
    "# switch_it_up(3) -> 'Three'\n",
    "# switch_it_up(10000) -> None\n",
    "# Использовать условный оператор if-elif-else нельзя!\n",
    "\n",
    "def switch_it_up(number):\n",
    "    f = {0: 'ноль', 1: 'один', 2: 'два', 3: 'три', 4: 'четыре', 5: 'пять',\n",
    "         6: 'шесть', 7: 'семь', 8: 'восемь', 9: 'девять'}\n",
    "    try:\n",
    "        for index in range(len(f)):\n",
    "            return print(f[number])\n",
    "    except LookupError:\n",
    "        return print(\"Такого числа нет\")\n",
    "print (switch_it_up(22))     #число забей от 0 до 9"
   ]
  }
 ],
 "metadata": {
  "kernelspec": {
   "display_name": "Python 3",
   "language": "python",
   "name": "python3"
  },
  "language_info": {
   "codemirror_mode": {
    "name": "ipython",
    "version": 3
   },
   "file_extension": ".py",
   "mimetype": "text/x-python",
   "name": "python",
   "nbconvert_exporter": "python",
   "pygments_lexer": "ipython3",
   "version": "3.11.3"
  },
  "orig_nbformat": 4
 },
 "nbformat": 4,
 "nbformat_minor": 2
}
