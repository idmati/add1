{
  "nbformat": 4,
  "nbformat_minor": 0,
  "metadata": {
    "colab": {
      "provenance": []
    },
    "kernelspec": {
      "name": "python3",
      "display_name": "Python 3"
    },
    "language_info": {
      "name": "python"
    }
  },
  "cells": [
    {
      "cell_type": "markdown",
      "source": [
        "# питон. \n",
        "* todo - математика питон\n",
        "* todo - типы данных (отличия)\n",
        "* todo - функции встроенные\n",
        "* todo - методы\n",
        "* todo - индексы\n",
        "## основы и типы данных\n",
        "* int - целые числа (1,2,3)\n",
        "* float - вещественные числа\n",
        "* bool - true OR false - правда или лож\n",
        "* str - не числа, буквы и тд\n",
        "## функции\n",
        "* print () - вывод на экран\\консоль\n",
        "* type () - показать тип данных\n",
        "* int () - приведение к целому числу\n",
        "* float () - приведение к вещественному числу\n",
        "* round () - округление до ближайшего целого числа\n",
        "* input () - ввод данных от человека\n",
        "* len () - длинна строки, списка, кортежа\n",
        "* dir () - показывает методы для строки"
      ],
      "metadata": {
        "id": "aPlC4bZIfJ2N"
      }
    },
    {
      "cell_type": "code",
      "execution_count": 5,
      "metadata": {
        "colab": {
          "base_uri": "https://localhost:8080/"
        },
        "id": "ycXi-ClKcs-b",
        "outputId": "e2a21a34-101d-4128-940e-b790236c8bc9"
      },
      "outputs": [
        {
          "output_type": "execute_result",
          "data": {
            "text/plain": [
              "1"
            ]
          },
          "metadata": {},
          "execution_count": 5
        }
      ],
      "source": [
        "# слож\n",
        "2+2\n",
        "# вычет\n",
        "2-2\n",
        "# деление\n",
        "2/2\n",
        "# делим на целоe\n",
        "2//2\n",
        "# остаток от деления\n",
        "2%2\n",
        "10%3\n",
        "# возведение в степень\n",
        "3**2"
      ]
    },
    {
      "cell_type": "code",
      "source": [
        "# Встроенные функции\n",
        "# print(type (2+2))\n",
        "# type (2/2)\n",
        "\n",
        "print (type(2+2),type(2/2)) \n",
        "type ((2+2-4)/20*10**2)\n",
        "30.0//3"
      ],
      "metadata": {
        "colab": {
          "base_uri": "https://localhost:8080/"
        },
        "id": "JiXaDi20kIt0",
        "outputId": "f6666a30-b76a-42a8-84f3-a690e2483cc6"
      },
      "execution_count": 15,
      "outputs": [
        {
          "output_type": "stream",
          "name": "stdout",
          "text": [
            "<class 'int'> <class 'float'>\n"
          ]
        },
        {
          "output_type": "execute_result",
          "data": {
            "text/plain": [
              "10.0"
            ]
          },
          "metadata": {},
          "execution_count": 15
        }
      ]
    },
    {
      "cell_type": "markdown",
      "source": [
        "## Операции между флоат и инт"
      ],
      "metadata": {
        "id": "GHmwEhjym8n2"
      }
    },
    {
      "cell_type": "code",
      "source": [
        "print (int(13.0//3))\n"
      ],
      "metadata": {
        "colab": {
          "base_uri": "https://localhost:8080/"
        },
        "id": "t0vzP_mAnQOA",
        "outputId": "4fca5157-ba94-4f85-f58b-154cdbdf30f3"
      },
      "execution_count": 18,
      "outputs": [
        {
          "output_type": "stream",
          "name": "stdout",
          "text": [
            "4.0\n"
          ]
        }
      ]
    },
    {
      "cell_type": "markdown",
      "source": [
        "# особенности флоат"
      ],
      "metadata": {
        "id": "w3XXtxGQn98J"
      }
    },
    {
      "cell_type": "code",
      "source": [
        "0.1+0.2==0.3"
      ],
      "metadata": {
        "colab": {
          "base_uri": "https://localhost:8080/"
        },
        "id": "aQz48p23oCoI",
        "outputId": "0e29f43a-ff15-4d66-9b57-b07f7654c750"
      },
      "execution_count": 20,
      "outputs": [
        {
          "output_type": "execute_result",
          "data": {
            "text/plain": [
              "False"
            ]
          },
          "metadata": {},
          "execution_count": 20
        }
      ]
    },
    {
      "cell_type": "markdown",
      "source": [
        "## округление round ()"
      ],
      "metadata": {
        "id": "seoakW3DrJxy"
      }
    },
    {
      "cell_type": "code",
      "source": [
        "x =round (12.5)\n",
        "print (x)\n",
        "\n",
        "round (12.5)  # до 12 округлил\n",
        "\n",
        "\n",
        "\n",
        "y =round (12.5)-round (11.5)\n",
        "print (y)\n",
        "z =(int(21)+float(21*0))\n",
        "print (int(z))\n",
        "print (z)\n",
        "print (type(z))\n"
      ],
      "metadata": {
        "colab": {
          "base_uri": "https://localhost:8080/"
        },
        "id": "m91_axHirN4B",
        "outputId": "0f394e32-f2f6-4899-e94a-3c22baee5f0a"
      },
      "execution_count": 36,
      "outputs": [
        {
          "output_type": "stream",
          "name": "stdout",
          "text": [
            "12\n",
            "0\n",
            "21\n",
            "21.0\n",
            "<class 'float'>\n"
          ]
        }
      ]
    },
    {
      "cell_type": "markdown",
      "source": [
        "### Тип данных - bool ()\n",
        "* true\\false"
      ],
      "metadata": {
        "id": "evOIqIFWwUfa"
      }
    },
    {
      "cell_type": "code",
      "source": [
        "2>2"
      ],
      "metadata": {
        "colab": {
          "base_uri": "https://localhost:8080/"
        },
        "id": "vbeM2kbvwyQh",
        "outputId": "07ecbca9-6454-4440-b64d-3810ade5b3b4"
      },
      "execution_count": 37,
      "outputs": [
        {
          "output_type": "execute_result",
          "data": {
            "text/plain": [
              "False"
            ]
          },
          "metadata": {},
          "execution_count": 37
        }
      ]
    },
    {
      "cell_type": "markdown",
      "source": [
        "## Переменные\n",
        "#### правила переменных\n",
        "Правила имен переменных\n",
        "1. Имя переменной должно начинаться с буквы или\n",
        "знака подчеркивания '_';\n",
        "2. Имя переменной не может начинаться с цифры;\n",
        "3. Имя переменной может содержать в себе только буквы, числа от 0 до 9 и знак подчеркивания;\n",
        "4. Имя переменных чувствительны к регистру («Age», «age», «AGE» — разные переменные).\n",
        "#### Как желательно записывать имена переменных\n",
        "1. Записано маленькими латинскими буквами\n",
        "2. Разделено нижним подчеркиванием “_”, если в названии переменной несколько слов\n",
        "3. Отображать, какой объект за переменной находиться (иметь семантическую связь)"
      ],
      "metadata": {
        "id": "lfASnytzxGSx"
      }
    },
    {
      "cell_type": "code",
      "source": [
        "x =((20-3)**3)/(10*5**3)\n",
        "y =5.2\n",
        "\n",
        "print ('Cравнил' , x>y)\n",
        "\n",
        "\n",
        "# КАК нельзя\n",
        "# 1хбет алилуя\n",
        "_variable =0 # плохо!\n",
        "var_01 =100**10 # нормас \n",
        "\n",
        "\n",
        "# ввод значения от пользователя\n",
        "user_input = input('Введи число и получишь число в квадрате: ')\n",
        "print(int(user_input) ** 2)  #int приводит к типу данных с целой цифрой\n"
      ],
      "metadata": {
        "colab": {
          "base_uri": "https://localhost:8080/"
        },
        "id": "Hoot25c2xKSw",
        "outputId": "8331e957-296b-4346-8ebe-26e4f5f42f6e"
      },
      "execution_count": 43,
      "outputs": [
        {
          "output_type": "stream",
          "name": "stdout",
          "text": [
            "Cравнил False\n",
            "Введи число и получишь число в квадрате: 3\n",
            "9\n"
          ]
        }
      ]
    },
    {
      "cell_type": "markdown",
      "source": [
        "## Строки,операции"
      ],
      "metadata": {
        "id": "hq3P0JW_4ms8"
      }
    },
    {
      "cell_type": "code",
      "source": [
        "print ('yo watss up nigga )')"
      ],
      "metadata": {
        "colab": {
          "base_uri": "https://localhost:8080/"
        },
        "id": "URapueUh5TTa",
        "outputId": "d3696c82-709e-4759-8d5b-8389250d3038"
      },
      "execution_count": 44,
      "outputs": [
        {
          "output_type": "stream",
          "name": "stdout",
          "text": [
            "yo watss up nigga )\n"
          ]
        }
      ]
    },
    {
      "cell_type": "markdown",
      "source": [
        "#### **Индексация строк!** -взятие отдельных символов из строки с помощью индекса"
      ],
      "metadata": {
        "id": "S4IrvGfR7bxL"
      }
    },
    {
      "cell_type": "code",
      "source": [
        "# индекс считается с 0\n",
        "# H e l l o   W o r l d !\n",
        "# 0 1 2 3 4 5 6 7 8 9 10 11       (пробел тоже имеет индекс 5, и воскл знак)\n",
        "#                     -2 -1\n",
        "greeting = \"hello world!\"\n",
        "greeting [4]\n",
        "greeting [-2]\n",
        "greeting [5]\n",
        "greeting [6:-1]\n",
        "greeting [6:]  #считает С 6 буквы W и до конца если не знаешь\n",
        "greeting [:7]  #считает ДО 7 буквы  и от начала если не знаешь\n",
        "greeting [::-1] # развернет в обратном порядке\n",
        "greeting \n"
      ],
      "metadata": {
        "id": "w3-Dfw6P7hit"
      },
      "execution_count": null,
      "outputs": []
    },
    {
      "cell_type": "markdown",
      "source": [
        "# Длинна строки"
      ],
      "metadata": {
        "id": "TFSvTRZK-lB8"
      }
    },
    {
      "cell_type": "code",
      "source": [
        "len(greeting) #cчитает КОЛИЧЕСТВО символов/индексов в hello world!\n",
        "len('hello')>len('hello world')\n",
        "'hellp'>'hello'"
      ],
      "metadata": {
        "colab": {
          "base_uri": "https://localhost:8080/"
        },
        "id": "hPyIPgXo-9UW",
        "outputId": "d640f0c9-4d11-4418-bd56-0fd4670332b1"
      },
      "execution_count": 59,
      "outputs": [
        {
          "output_type": "execute_result",
          "data": {
            "text/plain": [
              "True"
            ]
          },
          "metadata": {},
          "execution_count": 59
        }
      ]
    },
    {
      "cell_type": "markdown",
      "source": [
        "### Метод - это функция для конкретного типа данных"
      ],
      "metadata": {
        "id": "ymdc8rujBtTC"
      }
    },
    {
      "cell_type": "code",
      "source": [
        "# Разница между методом и функцией ?\n",
        "len (greeting)\n",
        "greeting.upper()\n",
        "greeting.find ('l') # ищет букву записаную и покажет ее индекс\n",
        "# как вывести все методы\n",
        "dir (number)"
      ],
      "metadata": {
        "colab": {
          "base_uri": "https://localhost:8080/"
        },
        "id": "R8Yr6EteB3cj",
        "outputId": "1b4b4c7b-0cd6-4d78-979a-4b3be83b1616"
      },
      "execution_count": 67,
      "outputs": [
        {
          "output_type": "execute_result",
          "data": {
            "text/plain": [
              "2"
            ]
          },
          "metadata": {},
          "execution_count": 67
        }
      ]
    }
  ]
}