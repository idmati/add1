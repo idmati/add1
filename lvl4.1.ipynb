{
 "cells": [
  {
   "cell_type": "code",
   "execution_count": 4,
   "metadata": {},
   "outputs": [
    {
     "name": "stdout",
     "output_type": "stream",
     "text": [
      "ИД Студ 201\n",
      "Имя студ Иван\n",
      "ИД школы 1\n",
      "Название школы Протон\n"
     ]
    }
   ],
   "source": [
    "import sqlite3\n",
    "\n",
    "def get_school_name(school_id):\n",
    "  con = sqlite3.connect(\"Schools.db\")\n",
    "  cur = con.cursor()\n",
    "  query = \"SELECT * FROM School WHERE School_Id = ?\"\n",
    "  cur.execute(query,(school_id,))\n",
    "  rec = cur.fetchone()\n",
    "  con.close()\n",
    "  return rec[1]\n",
    "\n",
    "\n",
    "\n",
    "def get_student(student_id):\n",
    "  con = sqlite3.connect(\"Students.db\")\n",
    "  cur = con.cursor()\n",
    "  query = \"SELECT * FROM Students WHERE Student_id = ?\"\n",
    "  cur.execute(query,(student_id,))\n",
    "  rec = cur.fetchall()\n",
    "  for raw in rec:\n",
    "    print (\"ИД Студ\", raw[0])\n",
    "    print (\"Имя студ\", raw[1])\n",
    "    print (\"ИД школы\", raw[2])\n",
    "    print (\"Название школы\",get_school_name(raw[2]))\n",
    "  con.close()\n",
    "get_student(201)"
   ]
  }
 ],
 "metadata": {
  "kernelspec": {
   "display_name": "Python 3",
   "language": "python",
   "name": "python3"
  },
  "language_info": {
   "codemirror_mode": {
    "name": "ipython",
    "version": 3
   },
   "file_extension": ".py",
   "mimetype": "text/x-python",
   "name": "python",
   "nbconvert_exporter": "python",
   "pygments_lexer": "ipython3",
   "version": "3.11.3"
  },
  "orig_nbformat": 4
 },
 "nbformat": 4,
 "nbformat_minor": 2
}
