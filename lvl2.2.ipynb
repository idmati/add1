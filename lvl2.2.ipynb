{
 "cells": [
  {
   "cell_type": "code",
   "execution_count": 8,
   "metadata": {},
   "outputs": [
    {
     "ename": "SyntaxError",
     "evalue": "invalid syntax (3294732945.py, line 31)",
     "output_type": "error",
     "traceback": [
      "\u001b[1;36m  Cell \u001b[1;32mIn[8], line 31\u001b[1;36m\u001b[0m\n\u001b[1;33m    def quart(list(quart)):\u001b[0m\n\u001b[1;37m                  ^\u001b[0m\n\u001b[1;31mSyntaxError\u001b[0m\u001b[1;31m:\u001b[0m invalid syntax\n"
     ]
    }
   ],
   "source": [
    "# # Задача 2.2. \n",
    "\n",
    "# # Напишите функцию, которая возвращает номер квартал по номеру месяца\n",
    "# # Например: \n",
    "# # месяц 2 (февраль) является частью первого квартала; \n",
    "# # месяц 6 (июнь) является частью второго квартала; \n",
    "# # месяц 11 (ноябрь) является частью четвертого квартала.\n",
    "\n",
    "\n",
    "# quart = {1:[1,2,3],\n",
    "#          2:[4,5,6],\n",
    "#          3:[7,8,9],\n",
    "#          4:[10,11,12]\n",
    "#          }\n",
    "# mouth = {1:'январь',\n",
    "#          2:'февраль',\n",
    "#          3:'март',\n",
    "#          4:'апрель',\n",
    "#          5:'май',\n",
    "#          6:'июнь',\n",
    "#          7:'июль',\n",
    "#          8:'август',\n",
    "#          9:'сентябрь',\n",
    "#          10:'октябрь',\n",
    "#          11:'ноябрь',\n",
    "#          12:'декабрь'\n",
    "#          }\n",
    "         \n",
    "# m= int(input('номер месяца давай, число:'))\n",
    "# print (list(quart))\n",
    "# def quart(list(quart)):\n",
    "#     for m [month]:\n",
    "#         if m<1 or m>12:\n",
    "#     print ('ты ввел ',(m),'это квартал',[quart])"
   ]
  },
  {
   "cell_type": "code",
   "execution_count": 11,
   "metadata": {},
   "outputs": [
    {
     "name": "stdout",
     "output_type": "stream",
     "text": [
      "Месяц является частью второго квартала\n"
     ]
    }
   ],
   "source": [
    "def quarter_of(month):\n",
    "    if month <4:\n",
    "        return 'Месяц является частью первого квартала'\n",
    "    elif month <7:\n",
    "        return 'Месяц является частью второго квартала'\n",
    "    elif month <10:\n",
    "        return 'Месяц является частью третьего квартала'\n",
    "    elif month < 13:\n",
    "        return 'Месяц является частью четвертого квартала'\n",
    "    else:\n",
    "        print('Месяца нету такого')\n",
    "\n",
    "month = int(input('номер месяца'))\n",
    "print(quarter_of(month))"
   ]
  },
  {
   "cell_type": "code",
   "execution_count": 10,
   "metadata": {},
   "outputs": [
    {
     "name": "stdout",
     "output_type": "stream",
     "text": [
      "месяц 6 (июнь) кусок второго квартала\n"
     ]
    }
   ],
   "source": [
    "def quarter_of(month):\n",
    "  cal = [\n",
    "    ['январь','первого'],\n",
    "    ['февраль','первого'],\n",
    "    ['март','первого'],\n",
    "    ['апрель','второго'],   \n",
    "    ['май','второго'],\n",
    "    ['июнь','второго'],\n",
    "    ['июль','третьего'],\n",
    "    ['август','третьего'],\n",
    "    ['сентябрь','третьего'],\n",
    "    ['октябрь','четвертого'],\n",
    "    ['ноябрь','четвертого'],\n",
    "    ['декабрь','четвертого']\n",
    "  ]\n",
    "  return cal[month-1][0], cal[month-1][1]\n",
    "\n",
    "while True:                                   \n",
    "  num_month = input('месяц на бочку: ')       \n",
    "  try:                                        \n",
    "    num_month = int(num_month)\n",
    "    if num_month < 1 or num_month > 12: \n",
    "      print('Такого месяца нету!')\n",
    "    else:\n",
    "      break\n",
    "  except ValueError:\n",
    "    print('Такого месяца нету!')\n",
    "\n",
    "month_name, quarter_name = quarter_of(num_month)\n",
    "print(f'месяц {num_month} ({month_name}) кусок {quarter_name} квартала')"
   ]
  }
 ],
 "metadata": {
  "kernelspec": {
   "display_name": "Python 3",
   "language": "python",
   "name": "python3"
  },
  "language_info": {
   "codemirror_mode": {
    "name": "ipython",
    "version": 3
   },
   "file_extension": ".py",
   "mimetype": "text/x-python",
   "name": "python",
   "nbconvert_exporter": "python",
   "pygments_lexer": "ipython3",
   "version": "3.11.3"
  },
  "orig_nbformat": 4
 },
 "nbformat": 4,
 "nbformat_minor": 2
}
