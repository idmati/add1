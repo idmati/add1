{
 "cells": [
  {
   "cell_type": "code",
   "execution_count": null,
   "metadata": {},
   "outputs": [],
   "source": [
    "# # Задача 2.2. \n",
    "\n",
    "# # Напишите функцию, которая возвращает номер квартал по номеру месяца\n",
    "# # Например: \n",
    "# # месяц 2 (февраль) является частью первого квартала; \n",
    "# # месяц 6 (июнь) является частью второго квартала; \n",
    "# # месяц 11 (ноябрь) является частью четвертого квартала."
   ]
  },
  {
   "cell_type": "code",
   "execution_count": 11,
   "metadata": {},
   "outputs": [
    {
     "name": "stdout",
     "output_type": "stream",
     "text": [
      "Месяц является частью второго квартала\n"
     ]
    }
   ],
   "source": [
    "def quarter_of(month):\n",
    "    if month <4:\n",
    "        return 'Месяц является частью первого квартала'\n",
    "    elif month <7:\n",
    "        return 'Месяц является частью второго квартала'\n",
    "    elif month <10:\n",
    "        return 'Месяц является частью третьего квартала'\n",
    "    elif month < 13:\n",
    "        return 'Месяц является частью четвертого квартала'\n",
    "    else:\n",
    "        print('Месяца нету такого')\n",
    "\n",
    "month = int(input('номер месяца введи'))\n",
    "print(quarter_of(month))"
   ]
  },
  {
   "cell_type": "code",
   "execution_count": 12,
   "metadata": {},
   "outputs": [
    {
     "name": "stdout",
     "output_type": "stream",
     "text": [
      "месяц 7 (июль) кусок третьего квартала\n"
     ]
    }
   ],
   "source": [
    "def quarter_of(month):\n",
    "  caldr = [\n",
    "    ['январь','первого'],\n",
    "    ['февраль','первого'],\n",
    "    ['март','первого'],\n",
    "    ['апрель','второго'],   \n",
    "    ['май','второго'],\n",
    "    ['июнь','второго'],\n",
    "    ['июль','третьего'],\n",
    "    ['август','третьего'],\n",
    "    ['сентябрь','третьего'],\n",
    "    ['октябрь','четвертого'],\n",
    "    ['ноябрь','четвертого'],\n",
    "    ['декабрь','четвертого']\n",
    "  ]\n",
    "  return caldr[month-1][0], caldr[month-1][1]\n",
    "\n",
    "while True:                                   \n",
    "  num_month = input('месяц на бочку: ')       \n",
    "  try:                                        \n",
    "    num_month = int(num_month)\n",
    "    if num_month < 1 or num_month > 12: \n",
    "      print('Такого месяца нету!')\n",
    "    else:\n",
    "      break\n",
    "  except ValueError:\n",
    "    print('Такого месяца нету!')\n",
    "\n",
    "month_name, quarter_name = quarter_of(num_month)\n",
    "print(f'месяц {num_month} ({month_name}) кусок {quarter_name} квартала')"
   ]
  }
 ],
 "metadata": {
  "kernelspec": {
   "display_name": "Python 3",
   "language": "python",
   "name": "python3"
  },
  "language_info": {
   "codemirror_mode": {
    "name": "ipython",
    "version": 3
   },
   "file_extension": ".py",
   "mimetype": "text/x-python",
   "name": "python",
   "nbconvert_exporter": "python",
   "pygments_lexer": "ipython3",
   "version": "3.11.3"
  },
  "orig_nbformat": 4
 },
 "nbformat": 4,
 "nbformat_minor": 2
}
