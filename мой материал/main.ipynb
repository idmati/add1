{
 "cells": [
  {
   "cell_type": "code",
   "execution_count": 1,
   "metadata": {},
   "outputs": [
    {
     "ename": "ModuleNotFoundError",
     "evalue": "No module named 'functions'",
     "output_type": "error",
     "traceback": [
      "\u001b[1;31m---------------------------------------------------------------------------\u001b[0m",
      "\u001b[1;31mModuleNotFoundError\u001b[0m                       Traceback (most recent call last)",
      "Cell \u001b[1;32mIn[1], line 4\u001b[0m\n\u001b[0;32m      1\u001b[0m \u001b[39m# main.ipnb - служит для запуска\u001b[39;00m\n\u001b[0;32m      2\u001b[0m \n\u001b[0;32m      3\u001b[0m \u001b[39m# импорт имен из других модулей\u001b[39;00m\n\u001b[1;32m----> 4\u001b[0m \u001b[39mimport\u001b[39;00m \u001b[39mfunctions\u001b[39;00m\n\u001b[0;32m      6\u001b[0m \u001b[39mfor\u001b[39;00m i \u001b[39min\u001b[39;00m [\u001b[39m'\u001b[39m\u001b[39mмарк\u001b[39m\u001b[39m'\u001b[39m,\u001b[39m'\u001b[39m\u001b[39mфилипп\u001b[39m\u001b[39m'\u001b[39m, \u001b[39m'\u001b[39m\u001b[39mсемен]\u001b[39m\u001b[39m'\u001b[39m]:\n\u001b[0;32m      7\u001b[0m     \u001b[39mprint\u001b[39m (finctions\u001b[39m.\u001b[39mfunc(i))\n",
      "\u001b[1;31mModuleNotFoundError\u001b[0m: No module named 'functions'"
     ]
    }
   ],
   "source": [
    "# main.ipnb - служит для запуска\n",
    "\n",
    "# импорт имен из других модулей\n",
    "# вариант импорта 1\n",
    "# import funtions\n",
    "\n",
    "\n",
    "#вариан импорта 2 \n",
    "import functions as f\n",
    "\n",
    "for i in ['марк','филипп', 'семен]']:\n",
    "    print (finctions.func(i))\n",
    "    print(function.var1)\n",
    "# вариант импорта 3\n",
    "from functions import func\n",
    "# from pprint import pprint\n",
    "#"
   ]
  },
  {
   "cell_type": "code",
   "execution_count": 4,
   "metadata": {},
   "outputs": [
    {
     "name": "stdout",
     "output_type": "stream",
     "text": [
      "__main__\n"
     ]
    }
   ],
   "source": [
    "print (__name__) #__main__ если файл является запускаемым то его имя становится мейн,не зависимо от имени файла\n",
    "if __name__=='__name__':\n",
    "    print ('запуск скрипта')"
   ]
  }
 ],
 "metadata": {
  "kernelspec": {
   "display_name": "Python 3",
   "language": "python",
   "name": "python3"
  },
  "language_info": {
   "codemirror_mode": {
    "name": "ipython",
    "version": 3
   },
   "file_extension": ".py",
   "mimetype": "text/x-python",
   "name": "python",
   "nbconvert_exporter": "python",
   "pygments_lexer": "ipython3",
   "version": "3.11.3"
  },
  "orig_nbformat": 4
 },
 "nbformat": 4,
 "nbformat_minor": 2
}
