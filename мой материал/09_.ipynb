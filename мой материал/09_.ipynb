{
 "cells": [
  {
   "cell_type": "code",
   "execution_count": 7,
   "metadata": {},
   "outputs": [
    {
     "name": "stdout",
     "output_type": "stream",
     "text": [
      "элемент найден под индексом:  8\n"
     ]
    }
   ],
   "source": [
    "\n",
    "\n",
    "def binar (arr,x):\n",
    "    low=0\n",
    "    high=len(arr)-1\n",
    "    index= -1\n",
    "    while (low<=high) and (index== -1):\n",
    "        mid = (low+high)//2\n",
    "        if arr[mid]==x:\n",
    "            index=mid\n",
    "        else:\n",
    "            if x<arr[mid]:\n",
    "                high=mid-1\n",
    "            else:\n",
    "                low=mid+1\n",
    "    return index\n",
    "\n",
    "\n",
    "def exp_serch (arr,x):\n",
    "    if arr[0]==x:\n",
    "        return 0\n",
    "    index = 1\n",
    "    while index <len(arr) and arr[index] <=x:\n",
    "        index =index * 2\n",
    "    return binar (arr[:min(index,len(arr))], x)\n",
    "\n",
    "\n",
    "\n",
    "testarr= [1,2,3,4,5,6,7,8,9,10]\n",
    "y= int(input('введи число:'))\n",
    "\n",
    "if exp_serch(testarr,y) != -1:\n",
    "    print ('элемент найден под индексом: ',exp_serch(testarr,y))\n",
    "else:\n",
    "    print ('элемента нет в массиве')"
   ]
  },
  {
   "cell_type": "code",
   "execution_count": 5,
   "metadata": {},
   "outputs": [
    {
     "name": "stdout",
     "output_type": "stream",
     "text": [
      "3\n",
      "3\n",
      "элемент найден под индексом:  5\n"
     ]
    }
   ],
   "source": [
    "import math\n",
    "def jump_search(arr,x):\n",
    "    jump= int (math.sqrt(len(arr)))\n",
    "    print(jump)\n",
    "    left =0\n",
    "    right=0\n",
    "    while left<len(arr) and arr [left] <=x:\n",
    "        right= min(len(arr)-1,left + jump)\n",
    "        if arr[left] <=x and arr[right] >=x:\n",
    "            break\n",
    "        left += jump\n",
    "    if left >= len(arr) or arr[left] >x:\n",
    "        return -1\n",
    "    right = min(len(arr)-1,right)\n",
    "    n = left\n",
    "    while n <= right and arr[n]<=x:\n",
    "        if arr[n]==x:\n",
    "            return n\n",
    "        n +=1\n",
    "    return -1\n",
    "\n",
    "\n",
    "testarr= [1,2,3,4,5,6,7,8,9,10]\n",
    "y= int(input('введи число:'))\n",
    "\n",
    "if jump_search(testarr,y) != -1:\n",
    "    print ('элемент найден под индексом: ',jump_search(testarr,y))\n",
    "else:\n",
    "    print ('элемента нет в массиве')"
   ]
  },
  {
   "cell_type": "code",
   "execution_count": 9,
   "metadata": {},
   "outputs": [
    {
     "name": "stdout",
     "output_type": "stream",
     "text": [
      "элемента нет в массиве\n"
     ]
    }
   ],
   "source": [
    "# Интерполяционый поиск\n",
    "\n",
    "def inter_search (arr,x):\n",
    "    low=0\n",
    "    high = (len(arr)-1)\n",
    "    while low <=high and x >=arr[low] and x<=arr[high]:\n",
    "        index= low + int((x - arr[low]) * (high - low) / (arr[high]-arr[low]))\n",
    "        if arr [index]==x:\n",
    "            return index\n",
    "        if arr[index]<x:\n",
    "            low = index +1\n",
    "        else:\n",
    "            high= index -1\n",
    "    return -1\n",
    "\n",
    "\n",
    "testarr= [1,2,3,4,5,6,7,8,9,10]\n",
    "y= int(input('введи число:'))\n",
    "\n",
    "if inter_search(testarr,y) != -1:\n",
    "    print ('элемент найден под индексом: ',inter_search(testarr,y))\n",
    "else:\n",
    "    print ('элемента нет в массиве')\n"
   ]
  },
  {
   "cell_type": "code",
   "execution_count": 2,
   "metadata": {},
   "outputs": [
    {
     "name": "stdout",
     "output_type": "stream",
     "text": [
      "f:\\git\\add1\\мой материал\\тестовая\\1t.py\n",
      "f:\\git\\add1\\мой материал\\тестовая\\еще тестовая\n",
      "f:\\git\\add1\\мой материал\\тестовая\\еще тестовая\\2t.py\n",
      "f:\\git\\add1\\мой материал\\тестовая\\еще тестовая\\третья тестовая\n",
      "f:\\git\\add1\\мой материал\\тестовая\\еще тестовая\\третья тестовая\\3t.py\n"
     ]
    }
   ],
   "source": [
    "# рекурсивные методы\n",
    "import os\n",
    "def get_paths(path='.'):\n",
    "    for name in os.listdir(path):\n",
    "        abs_path = os.path.abspath(os.path.join(path,name))\n",
    "        yield abs_path   # может вернуть несколько результатов\n",
    "    if os.path.isdir(abs_path) is True:\n",
    "        yield from get_paths(abs_path)\n",
    "\n",
    "for i in get_paths('тестовая'):\n",
    "    print (i)"
   ]
  },
  {
   "cell_type": "code",
   "execution_count": 5,
   "metadata": {},
   "outputs": [
    {
     "name": "stdout",
     "output_type": "stream",
     "text": [
      "f:\\git\\add1\\мой материал\\тестовая\\1t.py\n",
      "f:\\git\\add1\\мой материал\\тестовая\\еще тестовая\\2t.py\n",
      "f:\\git\\add1\\мой материал\\тестовая\\еще тестовая\\третья тестовая\\3t.py\n"
     ]
    }
   ],
   "source": [
    "import os\n",
    "def get_paths(path='.'):\n",
    "    for name in os.listdir(path):\n",
    "        abs_path=os.path.abspath(os.path.join(path,name))\n",
    "        if os.path.isfile(abs_path) is True:\n",
    "            yield abs_path  \n",
    "        elif os.path.isdir(abs_path):\n",
    "            yield from get_paths(abs_path)\n",
    "for i in get_paths ('тестовая'):\n",
    "    print (i)"
   ]
  }
 ],
 "metadata": {
  "kernelspec": {
   "display_name": "Python 3",
   "language": "python",
   "name": "python3"
  },
  "language_info": {
   "codemirror_mode": {
    "name": "ipython",
    "version": 3
   },
   "file_extension": ".py",
   "mimetype": "text/x-python",
   "name": "python",
   "nbconvert_exporter": "python",
   "pygments_lexer": "ipython3",
   "version": "3.11.3"
  },
  "orig_nbformat": 4
 },
 "nbformat": 4,
 "nbformat_minor": 2
}
