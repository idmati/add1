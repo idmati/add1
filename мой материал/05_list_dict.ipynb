{
 "cells": [
  {
   "cell_type": "code",
   "execution_count": null,
   "metadata": {},
   "outputs": [],
   "source": [
    "# Задача 2\n",
    "\n",
    "# Количество элементов в списке \"города\" не меньше 3!\n",
    "# Создайте список списков населения перечисленных городов\n",
    "# Выведите на консоль население второго города в списке в формате\n",
    "# Население Москвы - ХХ человек\n",
    "# Выведите на консоль общий размер населения перечисленных городов как сумму населения всех городов\n",
    "# Итого размер населения - ХХ человек\n",
    " \n"
   ]
  },
  {
   "cell_type": "code",
   "execution_count": 8,
   "metadata": {},
   "outputs": [
    {
     "name": "stdout",
     "output_type": "stream",
     "text": [
      "население города красноярск - 1200000.0человек\n",
      "итог размер населения- 8700000.0 человек\n",
      "население города СПБ - 7000000.0 человек\n",
      "население города красноярск - 1200000.0 человек\n",
      "население города киров - 500000.0 человек\n",
      "итог размер населения -8700000.0 человека\n"
     ]
    }
   ],
   "source": [
    "population =[\n",
    "    ['СПБ', 7e+6],\n",
    "    ['красноярск', 1.2e+6 ],\n",
    "    ['киров', 0.5e+6]]\n",
    "print (f\"население города {population[1][0]} - {population[1][1]}человек\")\n",
    "#вариант 1\n",
    "# t_sum = population[0][1] + population [1][1] + population [2][1]\n",
    "\n",
    "#вариант 2\n",
    "total_sum=0\n",
    "for i in population:\n",
    "    total_sum +=i[1]\n",
    "print (f'итог размер населения- {total_sum} человек')\n",
    "# Вариант 3\n",
    "total_sum=0\n",
    "for c, people in population:\n",
    "    print (f'население города {c} - {people} человек')\n",
    "    total_sum +=people\n",
    "print (f'итог размер населения -{total_sum} человека')\n",
    "\n"
   ]
  },
  {
   "cell_type": "code",
   "execution_count": 13,
   "metadata": {},
   "outputs": [
    {
     "name": "stdout",
     "output_type": "stream",
     "text": [
      "1200000.0\n"
     ]
    }
   ],
   "source": [
    "# СЛОВАРЬ dict = пары ключевые: значения\n",
    "\n",
    "dict = {}\n",
    "lst = []\n",
    "tpl = ()\n",
    "\n",
    "capitals = {}\n",
    "capitals ['Россия']= 'Москва'\n",
    "capitals ['Итилаия']= 'Рим'\n",
    "# print(capitals) # {'россия': 'москва'}\n",
    "\n",
    "population ={\n",
    "    'СПБ': 7e+6,\n",
    "    'красноярск': 1.2e+6,\n",
    "    'киров': 0.5e+6,\n",
    "    }\n",
    "#print (population ['красноярск'])\n",
    "from pprint import pprint\n",
    "\n",
    "\n"
   ]
  },
  {
   "cell_type": "code",
   "execution_count": 5,
   "metadata": {},
   "outputs": [
    {
     "name": "stdout",
     "output_type": "stream",
     "text": [
      "Alice\n",
      "Bob\n",
      "Carol\n",
      "Frank\n",
      "Eve\n",
      "['Alice', 'Carol']\n",
      "['Alice', 'Bob', 'Carol', 'Frank', 'Eve'] вариант 2\n",
      "больше или равен 0\n",
      "больше либо равен 0\n",
      "1\n",
      "4\n",
      "9\n"
     ]
    }
   ],
   "source": [
    "# Задача 3\n",
    "# Поиск самых высокооплачиваемых работников с помощью спискового включения\n",
    " \n",
    "# нужно найти всех сотрудников, \n",
    "# зарабатывающих по крайней мере 100 000 долларов в год\n",
    " \n",
    "employees = {'Alice' : 100000,\n",
    "    'Bob' : 99817,\n",
    "    'Carol' : 122908,\n",
    "    'Frank' : 88123,\n",
    "    'Eve' : 93121}\n",
    "\n",
    "# Вариант 1\n",
    "top_managers = []\n",
    "for name in employees:\n",
    "    print(name) #получили ключи\\имена\n",
    "    if employees[name] >=100000:\n",
    "        top_managers.append(name)\n",
    "print (top_managers)\n",
    "\n",
    "# Вариант 2 - однострочники\n",
    "\n",
    "top_managers = [n for n in employees if employees[n]>=0]\n",
    "print (top_managers, 'вариант 2')\n",
    "# лаконичная запись условия if\n",
    "x =4\n",
    "if x>=0:\n",
    "    print('больше или равен 0')\n",
    "else:\n",
    "    print ('меньше 0')\n",
    "result = 'больше либо равен 0' if x >=0 else 'меньше 0' # в 1 строку\n",
    "print(result)\n",
    "# лакончиная запись for\n",
    "lst = [1,2,3]\n",
    "for i in lst:\n",
    "    print (i**2) # возводим в квадрат\n",
    "result = [i**2 for i in lst] #списковое включение []"
   ]
  }
 ],
 "metadata": {
  "kernelspec": {
   "display_name": "Python 3",
   "language": "python",
   "name": "python3"
  },
  "language_info": {
   "codemirror_mode": {
    "name": "ipython",
    "version": 3
   },
   "file_extension": ".py",
   "mimetype": "text/x-python",
   "name": "python",
   "nbconvert_exporter": "python",
   "pygments_lexer": "ipython3",
   "version": "3.11.3"
  },
  "orig_nbformat": 4
 },
 "nbformat": 4,
 "nbformat_minor": 2
}
