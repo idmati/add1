{
 "cells": [
  {
   "cell_type": "code",
   "execution_count": 23,
   "metadata": {},
   "outputs": [
    {
     "name": "stdout",
     "output_type": "stream",
     "text": [
      "violet\n",
      "red\n",
      "green\n",
      "blue\n",
      "red\n",
      "green\n",
      "blue\n",
      "violet\n",
      "red\n",
      "green\n",
      "blue\n",
      "violet\n",
      "элемент violet- индекс 3\n",
      "элемент violet- индекс 3\n",
      "элемент violet- индекс 3\n",
      "элемент violet- индекс 3\n"
     ]
    }
   ],
   "source": [
    "# Операторы цикла for и while\n",
    "\n",
    "# While\n",
    "\n",
    "#i = 1\n",
    "\n",
    "#while i < 10:\n",
    "#    i = i+1\n",
    "#    print ('i=', i)\n",
    "#print ('до свидания')   \n",
    "\n",
    "# Сравнение цен на квартиры\n",
    "\n",
    "\n",
    "#room_prices = [41,94,100,7,21,92,62,49,37,17]\n",
    "#i= -1\n",
    "#while i < len(room_prices):\n",
    "#    i+=1\n",
    "#    price = room_prices[i]\n",
    "#    print('чекаем',price)\n",
    "#    if price == min(room_prices):\n",
    "#        print ('тебе нашли')\n",
    "#        break  # остановка цикла\n",
    "\n",
    "#print ('до свидания')\n",
    "\n",
    "# Оператор цикла for\n",
    "#room_prices = [41,94,100,7,21,92,62,49,37,17]\n",
    "\n",
    "#for i in room_prices:\n",
    "#    print('цена комнаты=',i)\n",
    "\n",
    "# разница между for и while\n",
    "rainbow = ['red','green','blue','violet']\n",
    "i = 0\n",
    "while i < len(rainbow):\n",
    "    print(rainbow[i-1])\n",
    "    i +=1\n",
    "# через FOR\n",
    "for el in rainbow:\n",
    "    print(el)\n",
    "\n",
    "for index in range(len(rainbow)):\n",
    "    print (rainbow[index])\n",
    "\n",
    "# получить пары (индекс и значение) с помощью enumerate\n",
    "# x,y = 1, 2\n",
    "for w in enumerate(rainbow):\n",
    "    print(f'элемент {el}- индекс {index}')"
   ]
  }
 ],
 "metadata": {
  "kernelspec": {
   "display_name": "Python 3",
   "language": "python",
   "name": "python3"
  },
  "language_info": {
   "codemirror_mode": {
    "name": "ipython",
    "version": 3
   },
   "file_extension": ".py",
   "mimetype": "text/x-python",
   "name": "python",
   "nbconvert_exporter": "python",
   "pygments_lexer": "ipython3",
   "version": "3.11.3"
  },
  "orig_nbformat": 4
 },
 "nbformat": 4,
 "nbformat_minor": 2
}
