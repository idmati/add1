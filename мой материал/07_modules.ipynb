{
 "cells": [
  {
   "cell_type": "code",
   "execution_count": null,
   "metadata": {},
   "outputs": [],
   "source": [
    "# Импорт\n",
    "# модули, пакеты, фреймворки\n",
    "# модуль- это наш файл\n",
    "# пакеты- \n",
    "# \n",
    "# Структура модуля (для скрипта из одного файла)\n",
    "\n",
    "# 1.Создание функции\n",
    "def f1():\n",
    "    pass\n",
    "\n",
    "def f2():\n",
    "    pass\n",
    "\n",
    "def f3():\n",
    "    pass\n",
    "\n",
    "#2.1 константы (если нужно !) или переменные\n",
    "PATH= 'C:/Users/'\n",
    "\n",
    "# в идеале, в модуле не должно быть переменных\n",
    "\n",
    "#2.2 тело цикла или функций\n",
    "for i in f2():\n",
    "    f1(i)\n",
    "\n",
    "\n",
    "# \n",
    "# \n",
    "# "
   ]
  }
 ],
 "metadata": {
  "language_info": {
   "name": "python"
  },
  "orig_nbformat": 4
 },
 "nbformat": 4,
 "nbformat_minor": 2
}
