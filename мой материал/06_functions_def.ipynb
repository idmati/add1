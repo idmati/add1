{
 "cells": [
  {
   "cell_type": "code",
   "execution_count": 9,
   "metadata": {},
   "outputs": [
    {
     "name": "stdout",
     "output_type": "stream",
     "text": [
      "hello nigga марк\n",
      "hello nigga филипп\n",
      "hello nigga семен\n",
      "['Alice', 'Carol']\n"
     ]
    }
   ],
   "source": [
    "# Питон Урок 3\n",
    "# Функция - вызываем блок кода\n",
    "# DRY - dont repeat yourself\n",
    "# этап создания функции\n",
    "def greeting (name): # название функции гритинг\n",
    "    print ('hello nigga',name)\n",
    "\n",
    "# этап вызова фунции\n",
    "for i in ['марк','филипп','семен']:\n",
    "    greeting(i)\n",
    "\n",
    "\n",
    "\n",
    "employees1 = {'Alice' : 100000,\n",
    "    'Bob' : 99817,\n",
    "    'Carol' : 122908,\n",
    "    'Frank' : 88123,\n",
    "    'Eve' : 93121}\n",
    "employees2 = {'Alice' : 100000,\n",
    "    'Kirill' : 150000,\n",
    "    'Mike' : 130000,\n",
    "    'Frank' : 88123,\n",
    "    'Eve' : 93121}\n",
    "\n",
    "top_managers = []\n",
    "for name in employees:\n",
    "    if employees[name] >=100000:\n",
    "        top_managers.append(name)\n",
    "print (top_managers)\n",
    "\n",
    "# Задача 3.1 "
   ]
  },
  {
   "cell_type": "code",
   "execution_count": 19,
   "metadata": {},
   "outputs": [
    {
     "name": "stdout",
     "output_type": "stream",
     "text": [
      "['Alice', 'Carol']\n",
      "['Alice', 'Kirill', 'Mike']\n",
      "['Alice', 'Carol']\n",
      "222908\n",
      "55.0\n",
      "55.0\n",
      "5.49240852501722\n",
      "1 2 hello [1, 2] {'a': 1}\n"
     ]
    }
   ],
   "source": [
    "# Задача 3,1\n",
    "employees1 = {'Alice' : 100000,\n",
    "    'Bob' : 99817,\n",
    "    'Carol' : 122908,\n",
    "    'Frank' : 88123,\n",
    "    'Eve' : 93121}\n",
    "employees2 = {'Alice' : 100000,\n",
    "    'Kirill' : 150000,\n",
    "    'Mike' : 130000,\n",
    "    'Frank' : 88123,\n",
    "    'Eve' : 93121}\n",
    "def get_top_mgrs (empl: dict)-> list:   \n",
    "    '''Функция принимает словарь сотрудников \n",
    "    и возвращает список сотрудников у которых зп больше или равно 100к'''\n",
    "    top_managers = []\n",
    "    for name in empl:\n",
    "        if empl[name] >=100000:\n",
    "            top_managers.append(name)\n",
    "    print (top_managers)\n",
    "    return top_managers # необходимо вернуть результат функции\n",
    "\n",
    "get_top_mgrs(employees1) \n",
    "get_top_mgrs(employees2)  # гет вызываект эту функуию и сравнивает\n",
    "\n",
    "\n",
    "# воспользуемся результатом функции\n",
    "total_sum = sum ([employees1[n] for n in get_top_mgrs(employees1)])\n",
    "print (total_sum)\n",
    "\n",
    "# Параметры функции\n",
    "# Именнованные и позиционные параметры\n",
    "# Параметры по умол.\n",
    "# Распаковка параметров (или как работает функция print)\n",
    "\n",
    "\n",
    "def trapezoid_s(a,b,h):\n",
    "    '''Площадь трапеции'''\n",
    "    return (a+b) /2*h\n",
    "#вызов с позиционным параметрами\n",
    "St = trapezoid_s(5,6,10)\n",
    "print (St)\n",
    "# комбинированный вызов\n",
    "St = trapezoid_s(a=5,b=6,h=10)\n",
    "print (St)\n",
    "#П Параметр по умолчанию\n",
    "def trapezoid_v (a,b,*,h=1):\n",
    "    return (1/3) * h * (a + b + (a * b)**.5)\n",
    "Vt = trapezoid_v(5,6)\n",
    "print(Vt)\n",
    "# как работает фунцкии print()\n",
    "print (1,2, 'hello', [1,2],{'a':1})\n",
    "# запаковка параметров функции\n",
    "def func (*args, **kwargs):\n",
    "    print ('Содержание args:', type(args))\n",
    "    for i in args:\n",
    "        print ('  ',i)\n",
    "    print ('содержание kwargs:', type(kwargs))\n",
    "    for i in kwargs:\n",
    "        print('    ', i, kwargs[i])\n",
    "    \n",
    "func"
   ]
  }
 ],
 "metadata": {
  "kernelspec": {
   "display_name": "Python 3",
   "language": "python",
   "name": "python3"
  },
  "language_info": {
   "codemirror_mode": {
    "name": "ipython",
    "version": 3
   },
   "file_extension": ".py",
   "mimetype": "text/x-python",
   "name": "python",
   "nbconvert_exporter": "python",
   "pygments_lexer": "ipython3",
   "version": "3.11.3"
  },
  "orig_nbformat": 4
 },
 "nbformat": 4,
 "nbformat_minor": 2
}
