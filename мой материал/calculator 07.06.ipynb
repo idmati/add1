{
 "cells": [
  {
   "cell_type": "code",
   "execution_count": 6,
   "metadata": {},
   "outputs": [
    {
     "name": "stdout",
     "output_type": "stream",
     "text": [
      "буква q закроет калькулятор\n"
     ]
    }
   ],
   "source": [
    "print ('буква q закроет калькулятор')\n",
    "while True:\n",
    "    s = input('знак (+,-,*,/,%  ):')\n",
    "    if s=='q':\n",
    "        break\n",
    "    if s in ('+','-','*','/','%'):\n",
    "        if s == '%':\n",
    "            print ('x- число от которого берем проц')\n",
    "            print ('y- проц который берем')\n",
    "        x = float(input('x='))\n",
    "        y = float(input('y='))\n",
    "        if s =='+':\n",
    "            print ('%.2f' % (x+y))\n",
    "        elif s=='-':\n",
    "            print ('%.2f' % (x-y))\n",
    "        elif s=='*':\n",
    "            print ('%.2f' % (x*y))\n",
    "        elif s=='/':\n",
    "            if s!=0:\n",
    "                print (print ('%.2f' % (x/y)))\n",
    "            else:\n",
    "                print ('делишь на 0')\n",
    "\n",
    "        elif s=='%':\n",
    "            print ('%.2f' % (x/100*y))\n",
    "        \n",
    "            "
   ]
  },
  {
   "cell_type": "code",
   "execution_count": 5,
   "metadata": {},
   "outputs": [
    {
     "name": "stdout",
     "output_type": "stream",
     "text": [
      "4\n"
     ]
    }
   ],
   "source": [
    "#  Алгоритм Евклида\n",
    "# наибольший общий делитель\n",
    "a=44\n",
    "b=12\n",
    "while a!=0 and b!=0:\n",
    "    if a>b:\n",
    "        a=a%b\n",
    "    else:\n",
    "        b=b%a\n",
    "print (a+b)\n"
   ]
  },
  {
   "cell_type": "code",
   "execution_count": 7,
   "metadata": {},
   "outputs": [
    {
     "name": "stdout",
     "output_type": "stream",
     "text": [
      "7\n"
     ]
    }
   ],
   "source": [
    "a=35\n",
    "b=14\n",
    "while a!=b:\n",
    "    if a>b:\n",
    "        a=a-b\n",
    "    else:\n",
    "        b=b-a\n",
    "print (b)"
   ]
  }
 ],
 "metadata": {
  "kernelspec": {
   "display_name": "Python 3",
   "language": "python",
   "name": "python3"
  },
  "language_info": {
   "codemirror_mode": {
    "name": "ipython",
    "version": 3
   },
   "file_extension": ".py",
   "mimetype": "text/x-python",
   "name": "python",
   "nbconvert_exporter": "python",
   "pygments_lexer": "ipython3",
   "version": "3.11.3"
  },
  "orig_nbformat": 4
 },
 "nbformat": 4,
 "nbformat_minor": 2
}
