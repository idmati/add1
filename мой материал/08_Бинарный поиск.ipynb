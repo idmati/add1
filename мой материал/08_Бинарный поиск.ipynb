{
 "cells": [
  {
   "cell_type": "code",
   "execution_count": null,
   "metadata": {},
   "outputs": [],
   "source": []
  },
  {
   "cell_type": "code",
   "execution_count": 13,
   "metadata": {},
   "outputs": [
    {
     "name": "stdout",
     "output_type": "stream",
     "text": [
      "[14, 14, 22, 35, 36, 72, 75, 84, 90, 92]\n",
      "не нашел\n"
     ]
    }
   ],
   "source": [
    "from random import randint\n",
    "\n",
    "def bin_ser(arr,x):\n",
    "    low=0\n",
    "    high= len (arr)-1  #считает длинну массива по индексам и минус 1\n",
    "    index= -1\n",
    "    while (low <=high) and (index== -1):\n",
    "        mid = (low+high)//2\n",
    "        if arr[mid]== x:\n",
    "            index= mid\n",
    "        else:\n",
    "            if x<arr[mid]:\n",
    "                low = mid+1\n",
    "            else:\n",
    "                low = mid-1\n",
    "    return index\n",
    "\n",
    "\n",
    "#ТЕСТОВЫЙ МАСИВ\n",
    "n=10\n",
    "arr=[]\n",
    "for i in range(n):\n",
    "    arr.append(randint(1,99))\n",
    "arr.sort()\n",
    "print (arr)\n",
    "x= int(input('введи элемент:'))\n",
    "\n",
    "if bin_ser (arr,x)!= -1:\n",
    "    print ('элемент найден',bin_ser(arr,x))\n",
    "else:\n",
    "    print ('не нашел')\n",
    "\n",
    "\n"
   ]
  },
  {
   "cell_type": "code",
   "execution_count": 16,
   "metadata": {},
   "outputs": [
    {
     "name": "stdout",
     "output_type": "stream",
     "text": [
      "[10, 18, 46, 58, 61, 68, 82, 83, 83, 90]\n",
      "Элемент не найден\n"
     ]
    }
   ],
   "source": [
    "#бинарный поиск с рекурсией\n",
    "\n",
    "from random import randint\n",
    "\n",
    "def binary_search_rec(arr, low, high, x):\n",
    "  #Вычисляем середину\n",
    "  if high >= low:\n",
    "    mid = (high + low) // 2\n",
    "    # Если элемент в середине\n",
    "    if arr[mid] == x:\n",
    "      return mid\n",
    "    # Если элемент не в середине, то в левой части\n",
    "    elif arr[mid] > x: \n",
    "      return binary_search_rec(arr, low, mid - 1, x)\n",
    "    # Если элемент в правой части\n",
    "    else:\n",
    "      return binary_search_rec(arr, mid + 1, high, x)\n",
    "  else:\n",
    "    # В случае, если элемент вообще не в массиве\n",
    "    return -1\n",
    "\n",
    "# Тестовый маасив\n",
    "n = 10\n",
    "arr = []\n",
    "for i in range (n):\n",
    "  arr.append(randint(1,99))\n",
    "arr.sort()\n",
    "print (arr)\n",
    "x = int(input(\"Введи значение элемента: \"))\n",
    "\n",
    "\n",
    "# Вызов и интерпритация функции\n",
    "\n",
    "result = binary_search_rec(arr,0,len(arr)-1,x)\n",
    "\n",
    "if result != -1:\n",
    "  print ('Элемент найден под индексом', str(result))\n",
    "else:\n",
    "  print ('Элемент не найден')\n",
    "        "
   ]
  },
  {
   "cell_type": "code",
   "execution_count": 18,
   "metadata": {},
   "outputs": [
    {
     "name": "stdout",
     "output_type": "stream",
     "text": [
      "сейчас месяц 1\n",
      "1 месяц без %\n"
     ]
    },
    {
     "ename": "NameError",
     "evalue": "name 'all_sallary' is not defined",
     "output_type": "error",
     "traceback": [
      "\u001b[1;31m---------------------------------------------------------------------------\u001b[0m",
      "\u001b[1;31mNameError\u001b[0m                                 Traceback (most recent call last)",
      "Cell \u001b[1;32mIn[18], line 26\u001b[0m\n\u001b[0;32m     24\u001b[0m         \u001b[39melse\u001b[39;00m:\n\u001b[0;32m     25\u001b[0m             \u001b[39mprint\u001b[39m (\u001b[39m'\u001b[39m\u001b[39m1 месяц без \u001b[39m\u001b[39m%\u001b[39m\u001b[39m'\u001b[39m)\n\u001b[1;32m---> 26\u001b[0m             \u001b[39mprint\u001b[39m (\u001b[39m'\u001b[39m\u001b[39mзп :\u001b[39m\u001b[39m'\u001b[39m, all_sallary)\n\u001b[0;32m     27\u001b[0m             \u001b[39mprint\u001b[39m (\u001b[39m'\u001b[39m\u001b[39mрасходы:\u001b[39m\u001b[39m'\u001b[39m, exptemp)\n\u001b[0;32m     28\u001b[0m live \u001b[39m=\u001b[39m \u001b[39mabs\u001b[39m(all_sallary\u001b[39m-\u001b[39mexptemp)\n",
      "\u001b[1;31mNameError\u001b[0m: name 'all_sallary' is not defined"
     ]
    }
   ],
   "source": [
    "# Задачка\n",
    "\n",
    "# Зарплата сотрудника составляет salary руб., \n",
    "# Расходы на проживание превышают зарплату и составляют expenses руб. в месяц. \n",
    "# Расходы растут каждый месяц, кроме 1 на 10% в месяц.\n",
    "# Напишите скрипт расчета суммы денег, которую сотрудник должен брать в кредит, (12 месяцев).\n",
    "# Формат вывода:\n",
    "# Сотрудник будет должен: ХХХ.ХХ рублей\n",
    "\n",
    "salary = float(input('сумму давай:'))\n",
    "expenses = float (input('расходы говори'))\n",
    "month= [1,2,3,4,5,6,7,8,9,10,11,12]\n",
    "if salary>=expenses:\n",
    "    print ('условия нарушены')\n",
    "else:\n",
    "    for i in month:\n",
    "        print('сейчас месяц', i)\n",
    "        if i !=1:\n",
    "            all_sallary=salary*i\n",
    "            print('зп:', all_sallary)\n",
    "            expenses=expenses*1.1 # прибавили 10%\n",
    "            exptemp=exptemp+expenses\n",
    "            print ('расходы', exptemp)\n",
    "        else:\n",
    "            print ('1 месяц без %')\n",
    "            print ('зп :', all_sallary)\n",
    "            print ('расходы:', exptemp)\n",
    "live = abs(all_sallary-exptemp)\n",
    "\n",
    "print ('Сотрудник будет должен:', round(live,2), ' деревянных')"
   ]
  },
  {
   "cell_type": "code",
   "execution_count": 4,
   "metadata": {},
   "outputs": [
    {
     "name": "stdout",
     "output_type": "stream",
     "text": [
      "сейчас месяц 1\n",
      "1 месяц без %\n",
      "зп : 10.0\n",
      "расходы: 10.0\n",
      "сейчас месяц 2\n",
      "зп: 14.0\n",
      "расходы 21.0\n",
      "сейчас месяц 3\n",
      "зп: 21.0\n",
      "расходы 33.1\n",
      "сейчас месяц 4\n",
      "зп: 28.0\n",
      "расходы 46.410000000000004\n",
      "сейчас месяц 5\n",
      "зп: 35.0\n",
      "расходы 61.05100000000001\n",
      "сейчас месяц 6\n",
      "зп: 42.0\n",
      "расходы 77.15610000000001\n",
      "сейчас месяц 7\n",
      "зп: 49.0\n",
      "расходы 94.87171000000001\n",
      "сейчас месяц 8\n",
      "зп: 56.0\n",
      "расходы 114.35888100000001\n",
      "сейчас месяц 9\n",
      "зп: 63.0\n",
      "расходы 135.79476910000002\n",
      "сейчас месяц 10\n",
      "зп: 70.0\n",
      "расходы 159.37424601000004\n",
      "сейчас месяц 11\n",
      "зп: 77.0\n",
      "расходы 185.31167061100007\n",
      "сейчас месяц 12\n",
      "зп: 84.0\n",
      "расходы 213.84283767210007\n",
      "Сотрудник будет должен: 129.84  деревянных\n"
     ]
    }
   ],
   "source": [
    "# Задачка\n",
    "\n",
    "# Зарплата сотрудника составляет salary руб., \n",
    "# Расходы на проживание превышают зарплату и составляют expenses руб. в месяц. \n",
    "# Расходы растут каждый месяц, кроме 1 на 10% в месяц.\n",
    "# Напишите скрипт расчета суммы денег, которую сотрудник должен брать в кредит, (12 месяцев).\n",
    "# Формат вывода:\n",
    "# Сотрудник будет должен: ХХХ.ХХ рублей\n",
    "\n",
    "salary = float(input('сумму давай:'))\n",
    "expenses = float (input('расходы говори'))\n",
    "month= [1,2,3,4,5,6,7,8,9,10,11,12]\n",
    "exptemp=expenses\n",
    "if salary>=expenses:\n",
    "    print ('условия нарушены')\n",
    "else:\n",
    "    for i in month:\n",
    "        print('сейчас месяц', i)\n",
    "        if i !=1:\n",
    "            all_sallary=salary*i\n",
    "            print('зп:', all_sallary)\n",
    "            expenses=expenses*1.1 # прибавили 10%\n",
    "            exptemp=exptemp+expenses\n",
    "            print ('расходы', exptemp)\n",
    "        else:\n",
    "            print ('1 месяц без %')\n",
    "            print ('зп :', all_sallary)\n",
    "            print ('расходы:', exptemp)\n",
    "live = abs(all_sallary-exptemp)\n",
    "\n",
    "print ('Сотрудник будет должен:', round(live,2), ' деревянных')"
   ]
  }
 ],
 "metadata": {
  "kernelspec": {
   "display_name": "Python 3",
   "language": "python",
   "name": "python3"
  },
  "language_info": {
   "codemirror_mode": {
    "name": "ipython",
    "version": 3
   },
   "file_extension": ".py",
   "mimetype": "text/x-python",
   "name": "python",
   "nbconvert_exporter": "python",
   "pygments_lexer": "ipython3",
   "version": "3.11.3"
  },
  "orig_nbformat": 4
 },
 "nbformat": 4,
 "nbformat_minor": 2
}
