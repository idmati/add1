{
 "cells": [
  {
   "cell_type": "code",
   "execution_count": 17,
   "metadata": {},
   "outputs": [
    {
     "name": "stdout",
     "output_type": "stream",
     "text": [
      "[66, 26, 34, 14, 20, 70, 28, 56, 83, 6]\n"
     ]
    },
    {
     "data": {
      "text/plain": [
       "[6, 14, 20, 26, 28, 34, 56, 66, 70, 83]"
      ]
     },
     "execution_count": 17,
     "metadata": {},
     "output_type": "execute_result"
    }
   ],
   "source": [
    "from random import randint\n",
    "n=10\n",
    "data = []\n",
    "for i in range (n):   # функция выбора рендома\n",
    "    data.append(randint(1,99))\n",
    "print (data)\n",
    "\n",
    "\n",
    "\n",
    "def choice(data):\n",
    "    i=0\n",
    "    lenght = len(data)\n",
    "    while i < lenght -1:\n",
    "        m=i\n",
    "        j=i+1\n",
    "        while j<lenght:\n",
    "            if data[j] < data[m]:\n",
    "                m=j\n",
    "            j+=1\n",
    "        data[i],data[m]=data[m], data[i]\n",
    "        i += 1\n",
    "    return data\n",
    "choice (data)"
   ]
  },
  {
   "cell_type": "code",
   "execution_count": 61,
   "metadata": {},
   "outputs": [
    {
     "name": "stdout",
     "output_type": "stream",
     "text": [
      "[44, 21, 57, 2, 61, 61, 70, 7, 73, 98]\n"
     ]
    },
    {
     "data": {
      "text/plain": [
       "[2, 7, 21, 44, 57, 61, 61, 70, 73, 98]"
      ]
     },
     "execution_count": 61,
     "metadata": {},
     "output_type": "execute_result"
    }
   ],
   "source": [
    "# сортировка пузырьком\n",
    "from random import randint\n",
    "n=10\n",
    "data = []\n",
    "for i in range (n):   # функция выбора рендома\n",
    "    data.append(randint(1,99))\n",
    "print (data)\n",
    "\n",
    "\n",
    "def bubble_for(data):\n",
    "    for i in range(len(data)-1):\n",
    "        for j in range (len(data)-i-1):\n",
    "            if data[j]>data[j+1]:\n",
    "                data[j],data[j+1]=data[j+1],data[j]\n",
    "    return data\n",
    "\n",
    "\n",
    "# сортировка через вайл\n",
    "def bubble_while(data):\n",
    "    i=0\n",
    "    while j<0:\n",
    "        while j<len(data)-1-i:\n",
    "            if data [j]>data[j+1]:\n",
    "                data[j],data[j+1]= data[j+1],data[j]\n",
    "            j+=1\n",
    "        i+=1\n",
    "    return data\n",
    "\n",
    "\n",
    "\n",
    "def default (data):\n",
    "    data.sort()\n",
    "    return data\n",
    "\n",
    "\n",
    "def instrtation(data):\n",
    "    for i in range(len(data)):\n",
    "        j=i-1\n",
    "        val=data[i]\n",
    "        while data[j]>val and j>=0:\n",
    "            data [j+1]= data[j]\n",
    "            j -=1\n",
    "        data [j+1]=val\n",
    "    return data\n",
    "\n",
    "instrtation(data)"
   ]
  }
 ],
 "metadata": {
  "kernelspec": {
   "display_name": "Python 3",
   "language": "python",
   "name": "python3"
  },
  "language_info": {
   "codemirror_mode": {
    "name": "ipython",
    "version": 3
   },
   "file_extension": ".py",
   "mimetype": "text/x-python",
   "name": "python",
   "nbconvert_exporter": "python",
   "pygments_lexer": "ipython3",
   "version": "3.11.3"
  },
  "orig_nbformat": 4
 },
 "nbformat": 4,
 "nbformat_minor": 2
}
