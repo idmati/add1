{
 "cells": [
  {
   "cell_type": "code",
   "execution_count": 6,
   "metadata": {},
   "outputs": [],
   "source": [
    "# Задача 1.3.\n",
    "\n",
    "# Напишите скрипт, который принимает от пользователя номер месяца, \n",
    "# а возвращает количество дней в нем."
   ]
  },
  {
   "cell_type": "code",
   "execution_count": 37,
   "metadata": {},
   "outputs": [
    {
     "ename": "NameError",
     "evalue": "name 'январь' is not defined",
     "output_type": "error",
     "traceback": [
      "\u001b[1;31m---------------------------------------------------------------------------\u001b[0m",
      "\u001b[1;31mNameError\u001b[0m                                 Traceback (most recent call last)",
      "Cell \u001b[1;32mIn[37], line 1\u001b[0m\n\u001b[1;32m----> 1\u001b[0m lst \u001b[39m=\u001b[39m(январь,февраль,март,апрель,май,июнь,июль,август,сентябрь,октябрь,ноябрь,декабрь)\n\u001b[0;32m      2\u001b[0m a \u001b[39m=\u001b[39mlst\u001b[39m.\u001b[39mindex[февраль]\n\u001b[0;32m      3\u001b[0m \u001b[39mprint\u001b[39m (a)\n",
      "\u001b[1;31mNameError\u001b[0m: name 'январь' is not defined"
     ]
    }
   ],
   "source": [
    "lst =(январь,февраль,март,апрель,май,июнь,июль,август,сентябрь,октябрь,ноябрь,декабрь)  # КОВЫЧКИ\n",
    "a =lst.index[февраль]\n",
    "print (a)"
   ]
  },
  {
   "cell_type": "code",
   "execution_count": 9,
   "metadata": {},
   "outputs": [
    {
     "ename": "SyntaxError",
     "evalue": "invalid syntax (1974356067.py, line 2)",
     "output_type": "error",
     "traceback": [
      "\u001b[1;36m  Cell \u001b[1;32mIn[9], line 2\u001b[1;36m\u001b[0m\n\u001b[1;33m    input i[x]\u001b[0m\n\u001b[1;37m          ^\u001b[0m\n\u001b[1;31mSyntaxError\u001b[0m\u001b[1;31m:\u001b[0m invalid syntax\n"
     ]
    }
   ],
   "source": [
    "x =[[январь],[февраль],[март],[апрель],[май],[июнь],[июль],[август],[сентябрь],[октябрь],[ноябрь],[декабрь]]\n",
    "input i[x]\n",
    "\n",
    "\n",
    "print (\"какой месяц хочешь?цифру вводи\",x)"
   ]
  }
 ],
 "metadata": {
  "kernelspec": {
   "display_name": "Python 3",
   "language": "python",
   "name": "python3"
  },
  "language_info": {
   "codemirror_mode": {
    "name": "ipython",
    "version": 3
   },
   "file_extension": ".py",
   "mimetype": "text/x-python",
   "name": "python",
   "nbconvert_exporter": "python",
   "pygments_lexer": "ipython3",
   "version": "3.11.3"
  },
  "orig_nbformat": 4
 },
 "nbformat": 4,
 "nbformat_minor": 2
}
