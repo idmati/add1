{
 "cells": [
  {
   "cell_type": "code",
   "execution_count": 6,
   "metadata": {},
   "outputs": [],
   "source": [
    "# Задача 1.3.\n",
    "\n",
    "# Напишите скрипт, который принимает от пользователя номер месяца, \n",
    "# а возвращает количество дней в нем."
   ]
  },
  {
   "cell_type": "code",
   "execution_count": 9,
   "metadata": {},
   "outputs": [
    {
     "name": "stdout",
     "output_type": "stream",
     "text": [
      "ты в октябре, 31 день\n"
     ]
    }
   ],
   "source": [
    "i = int(input('номер месяца давай, цифру'))\n",
    "if i == 1:\n",
    "    print ('ты в январе, 31 день')\n",
    "elif i == 2:\n",
    "    print ('ты в феврале, 28 дней')\n",
    "elif i == 3:\n",
    "    print ('ты в марте, 30 дней')\n",
    "elif i == 4:\n",
    "    print ('ты в апреле, 31 день')\n",
    "elif i == 5:\n",
    "    print ('ты в мае, 31 день')\n",
    "elif i == 6:\n",
    "    print ('ты в июнe, 31 день')\n",
    "elif i == 7:\n",
    "    print ('ты в июлe, 31 день')\n",
    "elif i == 8:\n",
    "    print ('ты в августe, 31 день')\n",
    "elif i == 9:\n",
    "    print ('ты в сентябре, 31 день')\n",
    "elif i == 10:\n",
    "    print ('ты в октябре, 31 день')\n",
    "elif i == 11:\n",
    "    print ('ты в ноябре, 31 день')\n",
    "elif i == 12:\n",
    "    print ('ты в декабре, 31 день')\n",
    "else:\n",
    "    print ('что-то не то)') \n",
    "\n",
    "\n",
    "\n"
   ]
  }
 ],
 "metadata": {
  "kernelspec": {
   "display_name": "Python 3",
   "language": "python",
   "name": "python3"
  },
  "language_info": {
   "codemirror_mode": {
    "name": "ipython",
    "version": 3
   },
   "file_extension": ".py",
   "mimetype": "text/x-python",
   "name": "python",
   "nbconvert_exporter": "python",
   "pygments_lexer": "ipython3",
   "version": "3.11.3"
  },
  "orig_nbformat": 4
 },
 "nbformat": 4,
 "nbformat_minor": 2
}
