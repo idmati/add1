{
 "cells": [
  {
   "cell_type": "code",
   "execution_count": 193,
   "metadata": {},
   "outputs": [],
   "source": [
    "# Пункт A. \n",
    "# Приведем плейлист песен в виде списка списков\n",
    "# Список my_favorite_songs содержит список названий и длительности каждого трека\n",
    "# Выведите общее время звучания трех случайных песен в формате\n",
    "# Три песни звучат ХХХ минут\n",
    "my_favorite_songs = [\n",
    "    ['Waste a Moment', 3.03],\n",
    "    ['New Salvation', 4.02],\n",
    "    ['Staying\\' Alive', 3.40],\n",
    "    ['Out of Touch', 3.03],\n",
    "    ['A Sorta Fairytale', 5.28],\n",
    "    ['Easy', 4.15],\n",
    "    ['Beautiful Day', 4.04],\n",
    "    ['Nowhere to Run', 2.58],\n",
    "    ['In This World', 4.02],\n",
    "]\n",
    "# Пункт B. \n",
    "# Есть словарь песен \n",
    "# Распечатайте общее время звучания трех случайных песен\n",
    "# Вывод: Три песни звучат ХХХ минут.\n",
    "my_favorite_songs_dict = {\n",
    "    'Waste a Moment': 3.03,\n",
    "    'New Salvation': 4.02,\n",
    "    'Staying\\' Alive': 3.40,\n",
    "    'Out of Touch': 3.03,\n",
    "    'A Sorta Fairytale': 5.28,\n",
    "    'Easy': 4.15,\n",
    "    'Beautiful Day': 4.04,\n",
    "    'Nowhere to Run': 2.58,\n",
    "    'In This World': 4.02,\n",
    "}\n",
    "# Дополнительно для пунктов A и B\n",
    "# Пункт C.\n",
    "# Сгенерируйте случайные песни с помощью модуля random\n",
    "# import random\n",
    "# Дополнительно \n",
    "# Пункт D."
   ]
  },
  {
   "cell_type": "code",
   "execution_count": 219,
   "metadata": {},
   "outputs": [
    {
     "name": "stdout",
     "output_type": "stream",
     "text": [
      "три шарманки звучат 11.59 минут,пункт А done\n"
     ]
    }
   ],
   "source": [
    "# мое решение\n",
    "# Пункт А\n",
    "import random\n",
    "my_favorite_songs = [\n",
    "    ['Waste a Moment', 3.03],\n",
    "    ['New Salvation', 4.02],\n",
    "    ['Staying\\' Alive', 3.40],\n",
    "    ['Out of Touch', 3.03],\n",
    "    ['A Sorta Fairytale', 5.28],\n",
    "    ['Easy', 4.15],\n",
    "    ['Beautiful Day', 4.04],\n",
    "    ['Nowhere to Run', 2.58],\n",
    "    ['In This World', 4.02],\n",
    "]\n",
    "random_songs =random.sample(my_favorite_songs, 3)\n",
    "t_time =sum([song[1]for song in random_songs])\n",
    "print (f\"три шарманки звучат {t_time} минут,пункт А done\")\n",
    "#конец А"
   ]
  },
  {
   "cell_type": "code",
   "execution_count": 215,
   "metadata": {},
   "outputs": [
    {
     "name": "stdout",
     "output_type": "stream",
     "text": [
      "0\n",
      "Staying' Alive\n",
      "3.4\n",
      "Easy\n",
      "7.550000000000001\n",
      "Out of Touch\n",
      "три шарманки звучат 10.58 минут. А без сек три шарманки звучат 10 минут\n"
     ]
    }
   ],
   "source": [
    "# пункт В\n",
    "# Пока делаю поплыл, не могу прикрутить перечисление шарманок  \n",
    "# Есть словарь песен \n",
    "# Распечатайте общее время звучания трех случайных песен\n",
    "# Вывод: Три песни звучат ХХХ минут.\n",
    "from random import randint\n",
    "\n",
    "my_favorite_songs_dict = {\n",
    "    'Waste a Moment': 3.03,\n",
    "    'New Salvation': 4.02,\n",
    "    'Staying\\' Alive': 3.40,\n",
    "    'Out of Touch': 3.03,\n",
    "    'A Sorta Fairytale': 5.28,\n",
    "    'Easy': 4.15,\n",
    "    'Beautiful Day': 4.04,\n",
    "    'Nowhere to Run': 2.58,\n",
    "    'In This World': 4.02,\n",
    "}\n",
    "\n",
    "x=0\n",
    "y=0\n",
    "\n",
    "# for i in my_favorite_songs_dict:\n",
    "while x<3:\n",
    "    text=list(my_favorite_songs_dict.items())\n",
    "    a,b=text[randint(0,len(text)-1)]\n",
    "    print (y)\n",
    "    y=y+b\n",
    "    x=x+1\n",
    "    print (a)\n",
    "    \n",
    "print ('три шарманки звучат',y,'минут.','А без сек три шарманки звучат',int(y),'минут') # убрал секунды\n",
    "\n",
    "\n",
    "\n",
    "\n",
    "\n",
    "# random_songs =random.sample(my_favorite_songs, 3)\n",
    "# sum=0\n",
    "# for i in range(my_favorite_songs):\n",
    "#     song_time= ('Название', {random_val}, 'песни', f(i+1))\n",
    "#     if my_favorite_songs_dict(song_time):\n",
    "#         sum+=my_favorite_songs_dict(song_time)\n",
    "#     else:\n",
    "#         print ('ну ты зануда')\n",
    "\n",
    "# a =int(input(random_val))\n",
    "# total =sum[''.join(x) for x in a]\n",
    "# print (f'три шарманки играют {total} минут')"
   ]
  },
  {
   "cell_type": "code",
   "execution_count": 5,
   "metadata": {},
   "outputs": [
    {
     "name": "stdout",
     "output_type": "stream",
     "text": [
      "Три песни звучат 12.010000000000002 минут\n"
     ]
    }
   ],
   "source": [
    "import random\n",
    "my_favorite_songs = [\n",
    "    ['Waste a Moment', 3.03],\n",
    "    ['New Salvation', 4.02],\n",
    "    ['Staying\\' Alive', 3.40],\n",
    "    ['Out of Touch', 3.03],\n",
    "    ['A Sorta Fairytale', 5.28],\n",
    "    ['Easy', 4.15],\n",
    "    ['Beautiful Day', 4.04],\n",
    "    ['Nowhere to Run', 2.58],\n",
    "    ['In This World', 4.02],\n",
    "]\n",
    "y = my_favorite_songs [0] [1], my_favorite_songs [1] [1], my_favorite_songs [2] [1], my_favorite_songs [3] [1], my_favorite_songs [4] [1], my_favorite_songs [5] [1], my_favorite_songs [6] [1], my_favorite_songs [7] [1], my_favorite_songs [8] [1]\n",
    "\n",
    "sampling = sum(random.choices(y, k=3))\n",
    "print(\"Три песни звучат {} минут\".format(sampling))"
   ]
  }
 ],
 "metadata": {
  "kernelspec": {
   "display_name": "Python 3",
   "language": "python",
   "name": "python3"
  },
  "language_info": {
   "codemirror_mode": {
    "name": "ipython",
    "version": 3
   },
   "file_extension": ".py",
   "mimetype": "text/x-python",
   "name": "python",
   "nbconvert_exporter": "python",
   "pygments_lexer": "ipython3",
   "version": "3.11.3"
  },
  "orig_nbformat": 4
 },
 "nbformat": 4,
 "nbformat_minor": 2
}
