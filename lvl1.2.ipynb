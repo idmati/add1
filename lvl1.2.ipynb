{
 "cells": [
  {
   "cell_type": "code",
   "execution_count": null,
   "metadata": {},
   "outputs": [],
   "source": [
    "\n",
    "# Пункт A. \n",
    "# Приведем плейлист песен в виде списка списков\n",
    "# Список my_favorite_songs содержит список названий и длительности каждого трека\n",
    "# Выведите общее время звучания трех случайных песен в формате\n",
    "# Три песни звучат ХХХ минут\n",
    "my_favorite_songs = [\n",
    "    ['Waste a Moment', 3.03],\n",
    "    ['New Salvation', 4.02],\n",
    "    ['Staying\\' Alive', 3.40],\n",
    "    ['Out of Touch', 3.03],\n",
    "    ['A Sorta Fairytale', 5.28],\n",
    "    ['Easy', 4.15],\n",
    "    ['Beautiful Day', 4.04],\n",
    "    ['Nowhere to Run', 2.58],\n",
    "    ['In This World', 4.02],\n",
    "]\n",
    "# Пункт B. \n",
    "# Есть словарь песен \n",
    "# Распечатайте общее время звучания трех случайных песен\n",
    "# Вывод: Три песни звучат ХХХ минут."
   ]
  },
  {
   "cell_type": "code",
   "execution_count": 7,
   "metadata": {},
   "outputs": [
    {
     "name": "stdout",
     "output_type": "stream",
     "text": [
      "три шарманки звучат 10.64 минут,пункт А done\n"
     ]
    }
   ],
   "source": [
    "# мое решение\n",
    "import random\n",
    "my_favorite_songs = [\n",
    "    ['Waste a Moment', 3.03],\n",
    "    ['New Salvation', 4.02],\n",
    "    ['Staying\\' Alive', 3.40],\n",
    "    ['Out of Touch', 3.03],\n",
    "    ['A Sorta Fairytale', 5.28],\n",
    "    ['Easy', 4.15],\n",
    "    ['Beautiful Day', 4.04],\n",
    "    ['Nowhere to Run', 2.58],\n",
    "    ['In This World', 4.02],\n",
    "]\n",
    "random_songs =random.sample(my_favorite_songs, 3)\n",
    "t_time =sum([song[1]for song in random_songs])\n",
    "print (f\"три шарманки звучат {t_time} минут,пункт А done\")\n",
    "# пункт Б со славарем пока не изуче"
   ]
  }
 ],
 "metadata": {
  "kernelspec": {
   "display_name": "Python 3",
   "language": "python",
   "name": "python3"
  },
  "language_info": {
   "codemirror_mode": {
    "name": "ipython",
    "version": 3
   },
   "file_extension": ".py",
   "mimetype": "text/x-python",
   "name": "python",
   "nbconvert_exporter": "python",
   "pygments_lexer": "ipython3",
   "version": "3.11.3"
  },
  "orig_nbformat": 4
 },
 "nbformat": 4,
 "nbformat_minor": 2
}
