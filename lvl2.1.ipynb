{
 "cells": [
  {
   "cell_type": "code",
   "execution_count": 1,
   "metadata": {},
   "outputs": [],
   "source": [
    "# Задача 2.1. \n",
    "\n",
    "# Создайте две функции maximum и minimum,\n",
    "# которые получают список целых чисел в качестве входных данных \n",
    "# и возвращают наибольшее и наименьшее число в этом списке соответственно.\n",
    "# Например,\n",
    "# * [4,6,2,1,9,63,-134,566]         -> max = 566, min = -134\n",
    "# * [-52, 56, 30, 29, -54, 0, -110] -> min = -110, max = 56\n",
    "# * [42, 54, 65, 87, 0]             -> min = 0, max = 87\n",
    "# * [5]                             -> min = 5, max = 5\n",
    "# функции max и min использовать нельзя!\n",
    "x = [4,6,2,1,9,63,-134,566]\n",
    "\n",
    "def minimum(arr):\n",
    "    pass\n",
    "def maximum(arr):\n",
    "    pass"
   ]
  },
  {
   "cell_type": "code",
   "execution_count": null,
   "metadata": {},
   "outputs": [],
   "source": []
  },
  {
   "cell_type": "code",
   "execution_count": 26,
   "metadata": {},
   "outputs": [
    {
     "name": "stdout",
     "output_type": "stream",
     "text": [
      "[5]\n"
     ]
    }
   ],
   "source": [
    "# мое решение\n",
    "\n",
    "arr= [[4,6,2,1,9,63,-134,566],[-52, 56, 30, 29, -54, 0, -110],[42, 54, 65, 87, 0],[5]]\n",
    "\n",
    "def choice(data):\n",
    "  i = 0\n",
    "  length = len(data)\n",
    "  while i < length - 1:\n",
    "    m = i\n",
    "    j = i + 1\n",
    "    while j < length:\n",
    "      if data[j] < data[m]:\n",
    "        m = j\n",
    "      j += 1\n",
    "    data[i], data[m] = data[m], data[i]\n",
    "    i += 1\n",
    "  return data\n",
    "choice\n",
    "\n",
    "def minimum(arr):\n",
    "    for data in arr:\n",
    "      print (\"Минимальное значение из массива: \", data, choice(data)[0])\n",
    "print (data)"
   ]
  }
 ],
 "metadata": {
  "kernelspec": {
   "display_name": "Python 3",
   "language": "python",
   "name": "python3"
  },
  "language_info": {
   "codemirror_mode": {
    "name": "ipython",
    "version": 3
   },
   "file_extension": ".py",
   "mimetype": "text/x-python",
   "name": "python",
   "nbconvert_exporter": "python",
   "pygments_lexer": "ipython3",
   "version": "3.11.3"
  },
  "orig_nbformat": 4
 },
 "nbformat": 4,
 "nbformat_minor": 2
}
