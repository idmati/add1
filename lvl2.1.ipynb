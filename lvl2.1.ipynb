{
 "cells": [
  {
   "cell_type": "code",
   "execution_count": null,
   "metadata": {},
   "outputs": [],
   "source": [
    "# Задача 2.1. \n",
    "\n",
    "# Создайте две функции maximum и minimum,\n",
    "# которые получают список целых чисел в качестве входных данных \n",
    "# и возвращают наибольшее и наименьшее число в этом списке соответственно.\n",
    "# Например,\n",
    "# * [4,6,2,1,9,63,-134,566]         -> max = 566, min = -134\n",
    "# * [-52, 56, 30, 29, -54, 0, -110] -> min = -110, max = 56\n",
    "# * [42, 54, 65, 87, 0]             -> min = 0, max = 87\n",
    "# * [5]                             -> min = 5, max = 5\n",
    "# функции max и min использовать нельзя!\n",
    "\n",
    "def minimum(arr):\n",
    "    pass\n",
    "\n",
    "def maximum(arr):\n",
    "    pass"
   ]
  },
  {
   "cell_type": "code",
   "execution_count": null,
   "metadata": {},
   "outputs": [],
   "source": [
    "# мое решение\n",
    "\n"
   ]
  }
 ],
 "metadata": {
  "language_info": {
   "name": "python"
  },
  "orig_nbformat": 4
 },
 "nbformat": 4,
 "nbformat_minor": 2
}
