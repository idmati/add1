{
 "cells": [
  {
   "cell_type": "code",
   "execution_count": null,
   "metadata": {},
   "outputs": [],
   "source": [
    "# Есть словарь кодов товаров titles\n",
    "\n",
    "titles = {\n",
    "    'Кроссовки тип 3 (Adidas)': '100000110',\n",
    "    'Мячик тип 2 (Adidas)': '100000146',\n",
    "    'Кепка тип 1 (Adidas)': '100000149',\n",
    "    'Ремень тип 2 (Nike)': '100000194',\n",
    "    'Футболка тип 1 (Adidas)': '100000224',\n",
    "    'Шапка тип 5 (Puma)': '100000280',\n",
    "}\n",
    "# Товары находятся на складе и сохранены в виде словаря списков словарей,\n",
    "# которые отражают количество товаров в магазине по каждому коду.\n",
    "store = {\n",
    "    '100000110': [{'quantity': 31, 'price': 1637}],\n",
    "    '100000146': [ {'quantity': 4, 'price': 45}, {'quantity': 10, 'price': 48}],\n",
    "    '100000149': [ {'quantity': 28, 'price': 279}, {'quantity': 32, 'price': 291}],\n",
    "    '100000194': [{'quantity': 8, 'price': 220}, {'quantity': 1, 'price': 170}],\n",
    "    '100000224': [{'quantity': 61, 'price': 438}, {'quantity': 23, 'price': 302},  {'quantity': 50, 'price': 412}],\n",
    "    '100000280': [{'quantity': 26, 'price': 175}, ]\n",
    "}\n",
    "# Рассчитайте на какую сумму лежит каждого товара на складе.\n",
    "#\n",
    "# Вывести суммарную стоимость каждого товара в магазине в формате:\n",
    "# \"<товар> - <кол-во> шт, стоимость <общая стоимость> руб\"\n",
    "# Пример: \"Кроссовки тип 3 (Adidas) - 31 шт, стоимость 50747 руб\""
   ]
  },
  {
   "cell_type": "code",
   "execution_count": 9,
   "metadata": {},
   "outputs": [
    {
     "name": "stdout",
     "output_type": "stream",
     "text": [
      "Кроссовки тип 3 (Adidas) - 31 штуки\\штук,бабла надо 50747 деревянных\n",
      "Мячик тип 2 (Adidas) - 14 штуки\\штук,бабла надо 660 деревянных\n",
      "Кепка тип 1 (Adidas) - 60 штуки\\штук,бабла надо 17124 деревянных\n",
      "Ремень тип 2 (Nike) - 9 штуки\\штук,бабла надо 1930 деревянных\n",
      "Футболка тип 1 (Adidas) - 134 штуки\\штук,бабла надо 54264 деревянных\n",
      "Шапка тип 5 (Puma) - 26 штуки\\штук,бабла надо 4550 деревянных\n"
     ]
    }
   ],
   "source": [
    "# че делаю\n",
    "titles = {\n",
    "    'Кроссовки тип 3 (Adidas)': '100000110',\n",
    "    'Мячик тип 2 (Adidas)': '100000146',\n",
    "    'Кепка тип 1 (Adidas)': '100000149',\n",
    "    'Ремень тип 2 (Nike)': '100000194',\n",
    "    'Футболка тип 1 (Adidas)': '100000224',\n",
    "    'Шапка тип 5 (Puma)': '100000280',\n",
    "}\n",
    "# Товары находятся на складе и сохранены в виде словаря списков словарей,\n",
    "# которые отражают количество товаров в магазине по каждому коду.\n",
    "store = {\n",
    "    '100000110': [{'quantity': 31, 'price': 1637}],\n",
    "    '100000146': [ {'quantity': 4, 'price': 45}, {'quantity': 10, 'price': 48}],\n",
    "    '100000149': [ {'quantity': 28, 'price': 279}, {'quantity': 32, 'price': 291}],\n",
    "    '100000194': [{'quantity': 8, 'price': 220}, {'quantity': 1, 'price': 170}],\n",
    "    '100000224': [{'quantity': 61, 'price': 438}, {'quantity': 23, 'price': 302},  {'quantity': 50, 'price': 412}],\n",
    "    '100000280': [{'quantity': 26, 'price': 175}, ]\n",
    "}\n",
    "for i in titles:\n",
    "    x=0\n",
    "    y=0\n",
    "    for el in store[titles[i]]:\n",
    "        x += el['quantity'] * el['price']\n",
    "        y += el['quantity']\n",
    "    print (i ,'-',y,'штуки\\штук,бабла надо', x, 'деревянных')"
   ]
  },
  {
   "cell_type": "code",
   "execution_count": 5,
   "metadata": {},
   "outputs": [
    {
     "name": "stdout",
     "output_type": "stream",
     "text": [
      "Кроссовки тип 3 (Adidas) - 31 шт, стоимость  50747 руб\n",
      "Мячик тип 2 (Adidas) - 14 шт, стоимость  660 руб\n",
      "Кепка тип 1 (Adidas) - 60 шт, стоимость  17124 руб\n",
      "Ремень тип 2 (Nike) - 9 шт, стоимость  1930 руб\n",
      "Футболка тип 1 (Adidas) - 134 шт, стоимость  54264 руб\n",
      "Шапка тип 5 (Puma) - 26 шт, стоимость  4550 руб\n"
     ]
    }
   ],
   "source": [
    "titles = {\n",
    "    'Кроссовки тип 3 (Adidas)': '100000110',\n",
    "    'Мячик тип 2 (Adidas)': '100000146',\n",
    "    'Кепка тип 1 (Adidas)': '100000149',\n",
    "    'Ремень тип 2 (Nike)': '100000194',\n",
    "    'Футболка тип 1 (Adidas)': '100000224',\n",
    "    'Шапка тип 5 (Puma)': '100000280',\n",
    "}\n",
    "\n",
    "\n",
    "store = {\n",
    "    '100000110': [{'quantity': 31, 'price': 1637}],\n",
    "    '100000146': [ {'quantity': 4, 'price': 45}, {'quantity': 10, 'price': 48}],\n",
    "    '100000149': [ {'quantity': 28, 'price': 279}, {'quantity': 32, 'price': 291}],\n",
    "    '100000194': [{'quantity': 8, 'price': 220}, {'quantity': 1, 'price': 170}],\n",
    "    '100000224': [{'quantity': 61, 'price': 438}, {'quantity': 23, 'price': 302},  {'quantity': 50, 'price': 412}],\n",
    "    '100000280': [{'quantity': 26, 'price': 175}, ]\n",
    "}\n",
    "\n",
    "for name_product, code_product in titles.items():\n",
    "    total_quantity = 0\n",
    "    total_price = 0\n",
    "    for sports_equipment in store[code_product]:\n",
    "        all_quantity = 0\n",
    "        all_price = 0\n",
    "        all_quantity += sports_equipment['quantity']\n",
    "        all_price += sports_equipment['price']\n",
    "        total_price += all_quantity * all_price\n",
    "        total_quantity += all_quantity\n",
    "    print('{0} - {1} шт, стоимость  {2} руб'.format(name_product, total_quantity, total_price))"
   ]
  }
 ],
 "metadata": {
  "kernelspec": {
   "display_name": "Python 3",
   "language": "python",
   "name": "python3"
  },
  "language_info": {
   "codemirror_mode": {
    "name": "ipython",
    "version": 3
   },
   "file_extension": ".py",
   "mimetype": "text/x-python",
   "name": "python",
   "nbconvert_exporter": "python",
   "pygments_lexer": "ipython3",
   "version": "3.11.3"
  },
  "orig_nbformat": 4
 },
 "nbformat": 4,
 "nbformat_minor": 2
}
